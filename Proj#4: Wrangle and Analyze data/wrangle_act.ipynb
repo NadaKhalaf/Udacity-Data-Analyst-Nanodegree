{
 "cells": [
  {
   "cell_type": "markdown",
   "metadata": {},
   "source": [
    "# Data Wrangling Project\n",
    "## Table of Contents\n",
    "- [Introduction](#intro)\n",
    "- [Project Motivation](#mot)\n",
    "- [Gathering Data](#gather)\n",
    "- [Assessing Data](#assess)\n",
    "- [Cleaning Data](#clean)\n",
    "- [Storing, Analyzing, and Visualizing Data](#str)\n",
    "- [Resources](#Resources)\n",
    "\n",
    "<a id='intro'></a>\n",
    "## Introduction\n",
    "Real-world data rarely comes clean. Using Python and its libraries, you will gather data from a variety of sources and in a variety of formats, assess its quality and tidiness, then clean it. This is called data wrangling. You will document your wrangling efforts in a Jupyter Notebook, plus showcase them through analyses and visualizations using Python (and its libraries) and/or SQL.\n",
    "\n",
    "The dataset that you will be wrangling (and analyzing and visualizing) is the tweet archive of Twitter user @dog_rates, also known as WeRateDogs. WeRateDogs is a Twitter account that rates people's dogs with a humorous comment about the dog. These ratings almost always have a denominator of 10. The numerators, though? Almost always greater than 10. 11/10, 12/10, 13/10, etc. Why? Because \"they're good dogs Brent.\" WeRateDogs has over 4 million followers and has received international media coverage.\n",
    "\n",
    "WeRateDogs downloaded their Twitter archive and sent it to Udacity via email exclusively for you to use in this project. This archive contains basic tweet data (tweet ID, timestamp, text, etc.) for all 5000+ of their tweets as they stood on August 1, 2017. More on this soon.\n"
   ]
  },
  {
   "cell_type": "markdown",
   "metadata": {},
   "source": [
    "![caption](dog-rates-social.png)\n",
    "        **Image via <a href=\"Boston Magazine\">Boston Magazine</a>**"
   ]
  },
  {
   "cell_type": "markdown",
   "metadata": {},
   "source": [
    "<a id='mot'></a>\n",
    "## Project Motivation\n",
    "### Context\n",
    "Your goal: wrangle WeRateDogs Twitter data to create interesting and trustworthy analyses and visualizations. The Twitter archive is great, but it only contains very basic tweet information. Additional gathering, then assessing and cleaning is required for \"Wow!\"-worthy analyses and visualizations.\n",
    "### The Data\n",
    "- **Enhanced Twitter Archive:**\n",
    "\n",
    "    The WeRateDogs Twitter archive contains basic tweet data for all 5000+ of their tweets, but not everything. One column the archive does contain though: each tweet's text, which I used to extract rating, dog name, and dog \"stage\" (i.e. doggo, floofer, pupper, and puppo) to make this Twitter archive \"enhanced.\" Of the 5000+ tweets, I have filtered for tweets with ratings only (there are 2356). I extracted this data programmatically, but I didn't do a very good job. The ratings probably aren't all correct. Same goes for the dog names and probably dog stages (see below for more information on these) too. You'll need to assess and clean these columns if you want to use them for analysis and visualization.\n",
    "        \n",
    "        \n",
    "- **Additional Data via the Twitter API**\n",
    "\n",
    "    Back to the basic-ness of Twitter archives: retweet count and favorite count are two of the notable column omissions. Fortunately, this additional data can be gathered by anyone from Twitter's API. Well, \"anyone\" who has access to data for the 3000 most recent tweets, at least. But you, because you have the WeRateDogs Twitter archive and specifically the tweet IDs within it, can gather this data for all 5000+. And guess what? You're going to query Twitter's API to gather this valuable data.\n",
    "    \n",
    "    \n",
    "- **Image Predictions File**\n",
    "\n",
    "    One more cool thing: I ran every image in the WeRateDogs Twitter archive through a neural network that can classify breeds of dogs*. The results: a table full of image predictions (the top three only) alongside each tweet ID, image URL, and the image number that corresponded to the most confident prediction (numbered 1 to 4 since tweets can have up to four images).\n",
    "    \n",
    "### Key points\n",
    "Key points to keep in mind when data wrangling for this project:\n",
    "\n",
    "- You only want original ratings (no retweets) that have images. Though there are 5000+ tweets in the dataset, not all are dog ratings and some are retweets.\n",
    "- Assessing and cleaning the entire dataset completely would require a lot of time, and is not necessary to practice and demonstrate your skills in data wrangling. Therefore, the requirements of this project are only to assess and clean at least 8 quality issues and at least 2 tidiness issues in this dataset.\n",
    "- Cleaning includes merging individual pieces of data according to the rules of tidy data.\n",
    "- The fact that the rating numerators are greater than the denominators does not need to be cleaned. This unique rating system is a big part of the popularity of WeRateDogs.\n",
    "- You do not need to gather the tweets beyond August 1st, 2017. You can, but note that you won't be able to gather the image predictions for these tweets since you don't have access to the algorithm used."
   ]
  },
  {
   "cell_type": "markdown",
   "metadata": {},
   "source": [
    "**Your tasks in this project are as follows:**\n",
    "\n",
    "- Data wrangling, which consists of:\n",
    "    - Gathering data \n",
    "    - Assessing data\n",
    "    - Cleaning data\n",
    "    - Storing, analyzing, and visualizing your wrangled data\n",
    "    - Reporting on:\n",
    "    (1) your data wrangling efforts and (2) your data analyses and visualizations"
   ]
  },
  {
   "cell_type": "markdown",
   "metadata": {},
   "source": [
    "<a id='gather'></a>\n",
    "## 1- Gathering Data"
   ]
  },
  {
   "cell_type": "code",
   "execution_count": 578,
   "metadata": {},
   "outputs": [],
   "source": [
    "import pandas as pd\n",
    "import numpy as np\n",
    "import requests\n",
    "import json"
   ]
  },
  {
   "cell_type": "markdown",
   "metadata": {},
   "source": [
    "`1.` The WeRateDogs Twitter archive:"
   ]
  },
  {
   "cell_type": "code",
   "execution_count": 579,
   "metadata": {},
   "outputs": [],
   "source": [
    "WeRateDogs_archive = pd.read_csv('twitter-archive-enhanced-2.csv')\n",
    "# WeRateDogs_archive.head()"
   ]
  },
  {
   "cell_type": "markdown",
   "metadata": {},
   "source": [
    "`2.` The tweet image predictions:\n",
    "\n",
    "- This file (image_predictions-3.tsv) is hosted on Udacity's servers and should be downloaded programmatically using the Requests library and the following URL: https://d17h27t6h515a5.cloudfront.net/topher/2017/August/599fd2ad_image-predictions/image-predictions.tsv"
   ]
  },
  {
   "cell_type": "code",
   "execution_count": 580,
   "metadata": {},
   "outputs": [],
   "source": [
    "url=\"https://d17h27t6h515a5.cloudfront.net/topher/2017/August/599fd2ad_image-predictions/image-predictions.tsv\"\n",
    "response = requests.get(url)\n",
    "with open('image-predictions-3.tsv', 'wb') as file:\n",
    "    file.write(response.content)\n",
    "image_predictions = pd.read_csv('image-predictions-3.tsv', sep = '\\t')\n",
    "# image_predictions.head()"
   ]
  },
  {
   "cell_type": "markdown",
   "metadata": {},
   "source": [
    "`3.` Additional Data via the Twitter API:\n",
    "-  tweet_json.txt: This is the resulting data from twitter_api.py. You can proceed with the following part of \"Gathering Data for this Project\" on the Project Details page: \"Then read this tweet_json.txt file line by line into a pandas DataFrame with (at minimum) tweet ID, retweet count, and favorite count.\""
   ]
  },
  {
   "cell_type": "code",
   "execution_count": 581,
   "metadata": {
    "scrolled": true
   },
   "outputs": [
    {
     "data": {
      "text/html": [
       "<div>\n",
       "<style scoped>\n",
       "    .dataframe tbody tr th:only-of-type {\n",
       "        vertical-align: middle;\n",
       "    }\n",
       "\n",
       "    .dataframe tbody tr th {\n",
       "        vertical-align: top;\n",
       "    }\n",
       "\n",
       "    .dataframe thead th {\n",
       "        text-align: right;\n",
       "    }\n",
       "</style>\n",
       "<table border=\"1\" class=\"dataframe\">\n",
       "  <thead>\n",
       "    <tr style=\"text-align: right;\">\n",
       "      <th></th>\n",
       "      <th>tweet_id</th>\n",
       "      <th>retweets_count</th>\n",
       "      <th>favorites_count</th>\n",
       "    </tr>\n",
       "  </thead>\n",
       "  <tbody>\n",
       "    <tr>\n",
       "      <td>0</td>\n",
       "      <td>892420643555336193</td>\n",
       "      <td>8853</td>\n",
       "      <td>39467</td>\n",
       "    </tr>\n",
       "    <tr>\n",
       "      <td>1</td>\n",
       "      <td>892177421306343426</td>\n",
       "      <td>6514</td>\n",
       "      <td>33819</td>\n",
       "    </tr>\n",
       "    <tr>\n",
       "      <td>2</td>\n",
       "      <td>891815181378084864</td>\n",
       "      <td>4328</td>\n",
       "      <td>25461</td>\n",
       "    </tr>\n",
       "    <tr>\n",
       "      <td>3</td>\n",
       "      <td>891689557279858688</td>\n",
       "      <td>8964</td>\n",
       "      <td>42908</td>\n",
       "    </tr>\n",
       "    <tr>\n",
       "      <td>4</td>\n",
       "      <td>891327558926688256</td>\n",
       "      <td>9774</td>\n",
       "      <td>41048</td>\n",
       "    </tr>\n",
       "  </tbody>\n",
       "</table>\n",
       "</div>"
      ],
      "text/plain": [
       "             tweet_id retweets_count favorites_count\n",
       "0  892420643555336193           8853           39467\n",
       "1  892177421306343426           6514           33819\n",
       "2  891815181378084864           4328           25461\n",
       "3  891689557279858688           8964           42908\n",
       "4  891327558926688256           9774           41048"
      ]
     },
     "execution_count": 581,
     "metadata": {},
     "output_type": "execute_result"
    }
   ],
   "source": [
    "# Reading Twitter JSON\n",
    "\n",
    "# open file\n",
    "with open('tweet-json copy') as tweet_json:\n",
    "    # creat a dataframe with three columns: tweet ID, retweet count, and favorite count\n",
    "    tweets = pd.DataFrame(columns = ['tweet_id','retweets_count', 'favorites_count'])\n",
    "\n",
    "    for df in tweet_json:\n",
    "        # load data \n",
    "        tweets_data = json.loads(df)\n",
    "        # creat dict from the data\n",
    "        tweets_data = {'tweet_id': tweets_data['id'],\n",
    "                       'favorites_count': tweets_data['favorite_count'],\n",
    "                       'retweets_count': tweets_data['retweet_count']}\n",
    "        # append the data to the dataframe created befor\n",
    "        tweets = tweets.append(tweets_data,ignore_index=True)\n",
    "tweets.head()"
   ]
  },
  {
   "cell_type": "markdown",
   "metadata": {},
   "source": [
    "<a id='assess'></a>\n",
    "## 2- Assessing Data\n",
    "- After gathering each of the above pieces of data, assess them visually and programmatically for quality and tidiness issues. Detect and document at least eight (8) quality issues and two (2) tidiness issues. To meet specifications, the issues that satisfy the Project Motivation (see the Key Points header on the previous page) must be assessed."
   ]
  },
  {
   "cell_type": "markdown",
   "metadata": {},
   "source": [
    "`1.` The WeRateDogs Twitter archive:"
   ]
  },
  {
   "cell_type": "markdown",
   "metadata": {},
   "source": [
    "#### Quality"
   ]
  },
  {
   "cell_type": "code",
   "execution_count": 582,
   "metadata": {},
   "outputs": [
    {
     "data": {
      "text/html": [
       "<div>\n",
       "<style scoped>\n",
       "    .dataframe tbody tr th:only-of-type {\n",
       "        vertical-align: middle;\n",
       "    }\n",
       "\n",
       "    .dataframe tbody tr th {\n",
       "        vertical-align: top;\n",
       "    }\n",
       "\n",
       "    .dataframe thead th {\n",
       "        text-align: right;\n",
       "    }\n",
       "</style>\n",
       "<table border=\"1\" class=\"dataframe\">\n",
       "  <thead>\n",
       "    <tr style=\"text-align: right;\">\n",
       "      <th></th>\n",
       "      <th>tweet_id</th>\n",
       "      <th>in_reply_to_status_id</th>\n",
       "      <th>in_reply_to_user_id</th>\n",
       "      <th>timestamp</th>\n",
       "      <th>source</th>\n",
       "      <th>text</th>\n",
       "      <th>retweeted_status_id</th>\n",
       "      <th>retweeted_status_user_id</th>\n",
       "      <th>retweeted_status_timestamp</th>\n",
       "      <th>expanded_urls</th>\n",
       "      <th>rating_numerator</th>\n",
       "      <th>rating_denominator</th>\n",
       "      <th>name</th>\n",
       "      <th>doggo</th>\n",
       "      <th>floofer</th>\n",
       "      <th>pupper</th>\n",
       "      <th>puppo</th>\n",
       "    </tr>\n",
       "  </thead>\n",
       "  <tbody>\n",
       "    <tr>\n",
       "      <td>0</td>\n",
       "      <td>892420643555336193</td>\n",
       "      <td>NaN</td>\n",
       "      <td>NaN</td>\n",
       "      <td>2017-08-01 16:23:56 +0000</td>\n",
       "      <td>&lt;a href=\"http://twitter.com/download/iphone\" r...</td>\n",
       "      <td>This is Phineas. He's a mystical boy. Only eve...</td>\n",
       "      <td>NaN</td>\n",
       "      <td>NaN</td>\n",
       "      <td>NaN</td>\n",
       "      <td>https://twitter.com/dog_rates/status/892420643...</td>\n",
       "      <td>13</td>\n",
       "      <td>10</td>\n",
       "      <td>Phineas</td>\n",
       "      <td>None</td>\n",
       "      <td>None</td>\n",
       "      <td>None</td>\n",
       "      <td>None</td>\n",
       "    </tr>\n",
       "    <tr>\n",
       "      <td>1</td>\n",
       "      <td>892177421306343426</td>\n",
       "      <td>NaN</td>\n",
       "      <td>NaN</td>\n",
       "      <td>2017-08-01 00:17:27 +0000</td>\n",
       "      <td>&lt;a href=\"http://twitter.com/download/iphone\" r...</td>\n",
       "      <td>This is Tilly. She's just checking pup on you....</td>\n",
       "      <td>NaN</td>\n",
       "      <td>NaN</td>\n",
       "      <td>NaN</td>\n",
       "      <td>https://twitter.com/dog_rates/status/892177421...</td>\n",
       "      <td>13</td>\n",
       "      <td>10</td>\n",
       "      <td>Tilly</td>\n",
       "      <td>None</td>\n",
       "      <td>None</td>\n",
       "      <td>None</td>\n",
       "      <td>None</td>\n",
       "    </tr>\n",
       "    <tr>\n",
       "      <td>2</td>\n",
       "      <td>891815181378084864</td>\n",
       "      <td>NaN</td>\n",
       "      <td>NaN</td>\n",
       "      <td>2017-07-31 00:18:03 +0000</td>\n",
       "      <td>&lt;a href=\"http://twitter.com/download/iphone\" r...</td>\n",
       "      <td>This is Archie. He is a rare Norwegian Pouncin...</td>\n",
       "      <td>NaN</td>\n",
       "      <td>NaN</td>\n",
       "      <td>NaN</td>\n",
       "      <td>https://twitter.com/dog_rates/status/891815181...</td>\n",
       "      <td>12</td>\n",
       "      <td>10</td>\n",
       "      <td>Archie</td>\n",
       "      <td>None</td>\n",
       "      <td>None</td>\n",
       "      <td>None</td>\n",
       "      <td>None</td>\n",
       "    </tr>\n",
       "    <tr>\n",
       "      <td>3</td>\n",
       "      <td>891689557279858688</td>\n",
       "      <td>NaN</td>\n",
       "      <td>NaN</td>\n",
       "      <td>2017-07-30 15:58:51 +0000</td>\n",
       "      <td>&lt;a href=\"http://twitter.com/download/iphone\" r...</td>\n",
       "      <td>This is Darla. She commenced a snooze mid meal...</td>\n",
       "      <td>NaN</td>\n",
       "      <td>NaN</td>\n",
       "      <td>NaN</td>\n",
       "      <td>https://twitter.com/dog_rates/status/891689557...</td>\n",
       "      <td>13</td>\n",
       "      <td>10</td>\n",
       "      <td>Darla</td>\n",
       "      <td>None</td>\n",
       "      <td>None</td>\n",
       "      <td>None</td>\n",
       "      <td>None</td>\n",
       "    </tr>\n",
       "    <tr>\n",
       "      <td>4</td>\n",
       "      <td>891327558926688256</td>\n",
       "      <td>NaN</td>\n",
       "      <td>NaN</td>\n",
       "      <td>2017-07-29 16:00:24 +0000</td>\n",
       "      <td>&lt;a href=\"http://twitter.com/download/iphone\" r...</td>\n",
       "      <td>This is Franklin. He would like you to stop ca...</td>\n",
       "      <td>NaN</td>\n",
       "      <td>NaN</td>\n",
       "      <td>NaN</td>\n",
       "      <td>https://twitter.com/dog_rates/status/891327558...</td>\n",
       "      <td>12</td>\n",
       "      <td>10</td>\n",
       "      <td>Franklin</td>\n",
       "      <td>None</td>\n",
       "      <td>None</td>\n",
       "      <td>None</td>\n",
       "      <td>None</td>\n",
       "    </tr>\n",
       "  </tbody>\n",
       "</table>\n",
       "</div>"
      ],
      "text/plain": [
       "             tweet_id  in_reply_to_status_id  in_reply_to_user_id  \\\n",
       "0  892420643555336193                    NaN                  NaN   \n",
       "1  892177421306343426                    NaN                  NaN   \n",
       "2  891815181378084864                    NaN                  NaN   \n",
       "3  891689557279858688                    NaN                  NaN   \n",
       "4  891327558926688256                    NaN                  NaN   \n",
       "\n",
       "                   timestamp  \\\n",
       "0  2017-08-01 16:23:56 +0000   \n",
       "1  2017-08-01 00:17:27 +0000   \n",
       "2  2017-07-31 00:18:03 +0000   \n",
       "3  2017-07-30 15:58:51 +0000   \n",
       "4  2017-07-29 16:00:24 +0000   \n",
       "\n",
       "                                              source  \\\n",
       "0  <a href=\"http://twitter.com/download/iphone\" r...   \n",
       "1  <a href=\"http://twitter.com/download/iphone\" r...   \n",
       "2  <a href=\"http://twitter.com/download/iphone\" r...   \n",
       "3  <a href=\"http://twitter.com/download/iphone\" r...   \n",
       "4  <a href=\"http://twitter.com/download/iphone\" r...   \n",
       "\n",
       "                                                text  retweeted_status_id  \\\n",
       "0  This is Phineas. He's a mystical boy. Only eve...                  NaN   \n",
       "1  This is Tilly. She's just checking pup on you....                  NaN   \n",
       "2  This is Archie. He is a rare Norwegian Pouncin...                  NaN   \n",
       "3  This is Darla. She commenced a snooze mid meal...                  NaN   \n",
       "4  This is Franklin. He would like you to stop ca...                  NaN   \n",
       "\n",
       "   retweeted_status_user_id retweeted_status_timestamp  \\\n",
       "0                       NaN                        NaN   \n",
       "1                       NaN                        NaN   \n",
       "2                       NaN                        NaN   \n",
       "3                       NaN                        NaN   \n",
       "4                       NaN                        NaN   \n",
       "\n",
       "                                       expanded_urls  rating_numerator  \\\n",
       "0  https://twitter.com/dog_rates/status/892420643...                13   \n",
       "1  https://twitter.com/dog_rates/status/892177421...                13   \n",
       "2  https://twitter.com/dog_rates/status/891815181...                12   \n",
       "3  https://twitter.com/dog_rates/status/891689557...                13   \n",
       "4  https://twitter.com/dog_rates/status/891327558...                12   \n",
       "\n",
       "   rating_denominator      name doggo floofer pupper puppo  \n",
       "0                  10   Phineas  None    None   None  None  \n",
       "1                  10     Tilly  None    None   None  None  \n",
       "2                  10    Archie  None    None   None  None  \n",
       "3                  10     Darla  None    None   None  None  \n",
       "4                  10  Franklin  None    None   None  None  "
      ]
     },
     "execution_count": 582,
     "metadata": {},
     "output_type": "execute_result"
    }
   ],
   "source": [
    "WeRateDogs_archive.head()"
   ]
  },
  {
   "cell_type": "code",
   "execution_count": 583,
   "metadata": {},
   "outputs": [
    {
     "name": "stdout",
     "output_type": "stream",
     "text": [
      "<class 'pandas.core.frame.DataFrame'>\n",
      "RangeIndex: 2356 entries, 0 to 2355\n",
      "Data columns (total 17 columns):\n",
      "tweet_id                      2356 non-null int64\n",
      "in_reply_to_status_id         78 non-null float64\n",
      "in_reply_to_user_id           78 non-null float64\n",
      "timestamp                     2356 non-null object\n",
      "source                        2356 non-null object\n",
      "text                          2356 non-null object\n",
      "retweeted_status_id           181 non-null float64\n",
      "retweeted_status_user_id      181 non-null float64\n",
      "retweeted_status_timestamp    181 non-null object\n",
      "expanded_urls                 2297 non-null object\n",
      "rating_numerator              2356 non-null int64\n",
      "rating_denominator            2356 non-null int64\n",
      "name                          2356 non-null object\n",
      "doggo                         2356 non-null object\n",
      "floofer                       2356 non-null object\n",
      "pupper                        2356 non-null object\n",
      "puppo                         2356 non-null object\n",
      "dtypes: float64(4), int64(3), object(10)\n",
      "memory usage: 313.0+ KB\n"
     ]
    }
   ],
   "source": [
    "WeRateDogs_archive.info()"
   ]
  },
  {
   "cell_type": "code",
   "execution_count": 584,
   "metadata": {},
   "outputs": [
    {
     "data": {
      "text/plain": [
       "10     2333\n",
       "11        3\n",
       "50        3\n",
       "80        2\n",
       "20        2\n",
       "2         1\n",
       "16        1\n",
       "40        1\n",
       "70        1\n",
       "15        1\n",
       "90        1\n",
       "110       1\n",
       "120       1\n",
       "130       1\n",
       "150       1\n",
       "170       1\n",
       "7         1\n",
       "0         1\n",
       "Name: rating_denominator, dtype: int64"
      ]
     },
     "execution_count": 584,
     "metadata": {},
     "output_type": "execute_result"
    }
   ],
   "source": [
    "WeRateDogs_archive.rating_denominator.value_counts()"
   ]
  },
  {
   "cell_type": "code",
   "execution_count": 585,
   "metadata": {},
   "outputs": [
    {
     "data": {
      "text/plain": [
       "None         745\n",
       "a             55\n",
       "Charlie       12\n",
       "Cooper        11\n",
       "Oliver        11\n",
       "            ... \n",
       "Rhino          1\n",
       "Rodney         1\n",
       "Bluebert       1\n",
       "Taz            1\n",
       "Naphaniel      1\n",
       "Name: name, Length: 957, dtype: int64"
      ]
     },
     "execution_count": 585,
     "metadata": {},
     "output_type": "execute_result"
    }
   ],
   "source": [
    "WeRateDogs_archive.name.value_counts()"
   ]
  },
  {
   "cell_type": "code",
   "execution_count": 586,
   "metadata": {},
   "outputs": [
    {
     "data": {
      "text/plain": [
       "None     2259\n",
       "doggo      97\n",
       "Name: doggo, dtype: int64"
      ]
     },
     "execution_count": 586,
     "metadata": {},
     "output_type": "execute_result"
    }
   ],
   "source": [
    "WeRateDogs_archive.doggo.value_counts()"
   ]
  },
  {
   "cell_type": "code",
   "execution_count": 587,
   "metadata": {},
   "outputs": [
    {
     "data": {
      "text/plain": [
       "None       2346\n",
       "floofer      10\n",
       "Name: floofer, dtype: int64"
      ]
     },
     "execution_count": 587,
     "metadata": {},
     "output_type": "execute_result"
    }
   ],
   "source": [
    "WeRateDogs_archive.floofer.value_counts()"
   ]
  },
  {
   "cell_type": "code",
   "execution_count": 588,
   "metadata": {},
   "outputs": [
    {
     "data": {
      "text/plain": [
       "None      2099\n",
       "pupper     257\n",
       "Name: pupper, dtype: int64"
      ]
     },
     "execution_count": 588,
     "metadata": {},
     "output_type": "execute_result"
    }
   ],
   "source": [
    "WeRateDogs_archive.pupper.value_counts()"
   ]
  },
  {
   "cell_type": "code",
   "execution_count": 589,
   "metadata": {},
   "outputs": [
    {
     "data": {
      "text/plain": [
       "None     2326\n",
       "puppo      30\n",
       "Name: puppo, dtype: int64"
      ]
     },
     "execution_count": 589,
     "metadata": {},
     "output_type": "execute_result"
    }
   ],
   "source": [
    "WeRateDogs_archive.puppo.value_counts()"
   ]
  },
  {
   "cell_type": "code",
   "execution_count": 590,
   "metadata": {},
   "outputs": [
    {
     "data": {
      "text/plain": [
       "https://twitter.com/dog_rates/status/759447681597108224/photo/1                                                                    2\n",
       "https://twitter.com/dog_rates/status/750719632563142656/photo/1                                                                    2\n",
       "https://twitter.com/dog_rates/status/878057613040115712/photo/1,https://twitter.com/dog_rates/status/878057613040115712/photo/1    2\n",
       "https://www.gofundme.com/3yd6y1c,https://twitter.com/dog_rates/status/878281511006478336/photo/1                                   2\n",
       "https://twitter.com/dog_rates/status/767754930266464257/photo/1                                                                    2\n",
       "                                                                                                                                  ..\n",
       "https://twitter.com/dog_rates/status/687124485711986689/photo/1                                                                    1\n",
       "https://twitter.com/dog_rates/status/858843525470990336/photo/1                                                                    1\n",
       "https://twitter.com/dog_rates/status/675710890956750848/photo/1,https://twitter.com/dog_rates/status/675710890956750848/photo/1    1\n",
       "https://twitter.com/dog_rates/status/703041949650034688/photo/1,https://twitter.com/dog_rates/status/703041949650034688/photo/1    1\n",
       "https://twitter.com/dog_rates/status/678969228704284672/photo/1                                                                    1\n",
       "Name: expanded_urls, Length: 2218, dtype: int64"
      ]
     },
     "execution_count": 590,
     "metadata": {},
     "output_type": "execute_result"
    }
   ],
   "source": [
    "WeRateDogs_archive.expanded_urls.value_counts()"
   ]
  },
  {
   "cell_type": "markdown",
   "metadata": {},
   "source": [
    "`2.` The tweet image predictions:"
   ]
  },
  {
   "cell_type": "code",
   "execution_count": 591,
   "metadata": {},
   "outputs": [
    {
     "data": {
      "text/html": [
       "<div>\n",
       "<style scoped>\n",
       "    .dataframe tbody tr th:only-of-type {\n",
       "        vertical-align: middle;\n",
       "    }\n",
       "\n",
       "    .dataframe tbody tr th {\n",
       "        vertical-align: top;\n",
       "    }\n",
       "\n",
       "    .dataframe thead th {\n",
       "        text-align: right;\n",
       "    }\n",
       "</style>\n",
       "<table border=\"1\" class=\"dataframe\">\n",
       "  <thead>\n",
       "    <tr style=\"text-align: right;\">\n",
       "      <th></th>\n",
       "      <th>tweet_id</th>\n",
       "      <th>jpg_url</th>\n",
       "      <th>img_num</th>\n",
       "      <th>p1</th>\n",
       "      <th>p1_conf</th>\n",
       "      <th>p1_dog</th>\n",
       "      <th>p2</th>\n",
       "      <th>p2_conf</th>\n",
       "      <th>p2_dog</th>\n",
       "      <th>p3</th>\n",
       "      <th>p3_conf</th>\n",
       "      <th>p3_dog</th>\n",
       "    </tr>\n",
       "  </thead>\n",
       "  <tbody>\n",
       "    <tr>\n",
       "      <td>0</td>\n",
       "      <td>666020888022790149</td>\n",
       "      <td>https://pbs.twimg.com/media/CT4udn0WwAA0aMy.jpg</td>\n",
       "      <td>1</td>\n",
       "      <td>Welsh_springer_spaniel</td>\n",
       "      <td>0.465074</td>\n",
       "      <td>True</td>\n",
       "      <td>collie</td>\n",
       "      <td>0.156665</td>\n",
       "      <td>True</td>\n",
       "      <td>Shetland_sheepdog</td>\n",
       "      <td>0.061428</td>\n",
       "      <td>True</td>\n",
       "    </tr>\n",
       "    <tr>\n",
       "      <td>1</td>\n",
       "      <td>666029285002620928</td>\n",
       "      <td>https://pbs.twimg.com/media/CT42GRgUYAA5iDo.jpg</td>\n",
       "      <td>1</td>\n",
       "      <td>redbone</td>\n",
       "      <td>0.506826</td>\n",
       "      <td>True</td>\n",
       "      <td>miniature_pinscher</td>\n",
       "      <td>0.074192</td>\n",
       "      <td>True</td>\n",
       "      <td>Rhodesian_ridgeback</td>\n",
       "      <td>0.072010</td>\n",
       "      <td>True</td>\n",
       "    </tr>\n",
       "    <tr>\n",
       "      <td>2</td>\n",
       "      <td>666033412701032449</td>\n",
       "      <td>https://pbs.twimg.com/media/CT4521TWwAEvMyu.jpg</td>\n",
       "      <td>1</td>\n",
       "      <td>German_shepherd</td>\n",
       "      <td>0.596461</td>\n",
       "      <td>True</td>\n",
       "      <td>malinois</td>\n",
       "      <td>0.138584</td>\n",
       "      <td>True</td>\n",
       "      <td>bloodhound</td>\n",
       "      <td>0.116197</td>\n",
       "      <td>True</td>\n",
       "    </tr>\n",
       "    <tr>\n",
       "      <td>3</td>\n",
       "      <td>666044226329800704</td>\n",
       "      <td>https://pbs.twimg.com/media/CT5Dr8HUEAA-lEu.jpg</td>\n",
       "      <td>1</td>\n",
       "      <td>Rhodesian_ridgeback</td>\n",
       "      <td>0.408143</td>\n",
       "      <td>True</td>\n",
       "      <td>redbone</td>\n",
       "      <td>0.360687</td>\n",
       "      <td>True</td>\n",
       "      <td>miniature_pinscher</td>\n",
       "      <td>0.222752</td>\n",
       "      <td>True</td>\n",
       "    </tr>\n",
       "    <tr>\n",
       "      <td>4</td>\n",
       "      <td>666049248165822465</td>\n",
       "      <td>https://pbs.twimg.com/media/CT5IQmsXIAAKY4A.jpg</td>\n",
       "      <td>1</td>\n",
       "      <td>miniature_pinscher</td>\n",
       "      <td>0.560311</td>\n",
       "      <td>True</td>\n",
       "      <td>Rottweiler</td>\n",
       "      <td>0.243682</td>\n",
       "      <td>True</td>\n",
       "      <td>Doberman</td>\n",
       "      <td>0.154629</td>\n",
       "      <td>True</td>\n",
       "    </tr>\n",
       "  </tbody>\n",
       "</table>\n",
       "</div>"
      ],
      "text/plain": [
       "             tweet_id                                          jpg_url  \\\n",
       "0  666020888022790149  https://pbs.twimg.com/media/CT4udn0WwAA0aMy.jpg   \n",
       "1  666029285002620928  https://pbs.twimg.com/media/CT42GRgUYAA5iDo.jpg   \n",
       "2  666033412701032449  https://pbs.twimg.com/media/CT4521TWwAEvMyu.jpg   \n",
       "3  666044226329800704  https://pbs.twimg.com/media/CT5Dr8HUEAA-lEu.jpg   \n",
       "4  666049248165822465  https://pbs.twimg.com/media/CT5IQmsXIAAKY4A.jpg   \n",
       "\n",
       "   img_num                      p1   p1_conf  p1_dog                  p2  \\\n",
       "0        1  Welsh_springer_spaniel  0.465074    True              collie   \n",
       "1        1                 redbone  0.506826    True  miniature_pinscher   \n",
       "2        1         German_shepherd  0.596461    True            malinois   \n",
       "3        1     Rhodesian_ridgeback  0.408143    True             redbone   \n",
       "4        1      miniature_pinscher  0.560311    True          Rottweiler   \n",
       "\n",
       "    p2_conf  p2_dog                   p3   p3_conf  p3_dog  \n",
       "0  0.156665    True    Shetland_sheepdog  0.061428    True  \n",
       "1  0.074192    True  Rhodesian_ridgeback  0.072010    True  \n",
       "2  0.138584    True           bloodhound  0.116197    True  \n",
       "3  0.360687    True   miniature_pinscher  0.222752    True  \n",
       "4  0.243682    True             Doberman  0.154629    True  "
      ]
     },
     "execution_count": 591,
     "metadata": {},
     "output_type": "execute_result"
    }
   ],
   "source": [
    "image_predictions.head()"
   ]
  },
  {
   "cell_type": "code",
   "execution_count": 592,
   "metadata": {},
   "outputs": [
    {
     "name": "stdout",
     "output_type": "stream",
     "text": [
      "<class 'pandas.core.frame.DataFrame'>\n",
      "RangeIndex: 2075 entries, 0 to 2074\n",
      "Data columns (total 12 columns):\n",
      "tweet_id    2075 non-null int64\n",
      "jpg_url     2075 non-null object\n",
      "img_num     2075 non-null int64\n",
      "p1          2075 non-null object\n",
      "p1_conf     2075 non-null float64\n",
      "p1_dog      2075 non-null bool\n",
      "p2          2075 non-null object\n",
      "p2_conf     2075 non-null float64\n",
      "p2_dog      2075 non-null bool\n",
      "p3          2075 non-null object\n",
      "p3_conf     2075 non-null float64\n",
      "p3_dog      2075 non-null bool\n",
      "dtypes: bool(3), float64(3), int64(2), object(4)\n",
      "memory usage: 152.1+ KB\n"
     ]
    }
   ],
   "source": [
    "image_predictions.info()"
   ]
  },
  {
   "cell_type": "code",
   "execution_count": 593,
   "metadata": {},
   "outputs": [
    {
     "data": {
      "text/plain": [
       "1    1780\n",
       "2     198\n",
       "3      66\n",
       "4      31\n",
       "Name: img_num, dtype: int64"
      ]
     },
     "execution_count": 593,
     "metadata": {},
     "output_type": "execute_result"
    }
   ],
   "source": [
    "image_predictions.img_num.value_counts()"
   ]
  },
  {
   "cell_type": "code",
   "execution_count": 594,
   "metadata": {},
   "outputs": [
    {
     "data": {
      "text/plain": [
       "golden_retriever       150\n",
       "Labrador_retriever     100\n",
       "Pembroke                89\n",
       "Chihuahua               83\n",
       "pug                     57\n",
       "                      ... \n",
       "bakery                   1\n",
       "pillow                   1\n",
       "maillot                  1\n",
       "mud_turtle               1\n",
       "black-footed_ferret      1\n",
       "Name: p1, Length: 378, dtype: int64"
      ]
     },
     "execution_count": 594,
     "metadata": {},
     "output_type": "execute_result"
    }
   ],
   "source": [
    "image_predictions.p1.value_counts()"
   ]
  },
  {
   "cell_type": "code",
   "execution_count": 595,
   "metadata": {},
   "outputs": [
    {
     "data": {
      "text/plain": [
       "True     1532\n",
       "False     543\n",
       "Name: p1_dog, dtype: int64"
      ]
     },
     "execution_count": 595,
     "metadata": {},
     "output_type": "execute_result"
    }
   ],
   "source": [
    "image_predictions.p1_dog.value_counts()"
   ]
  },
  {
   "cell_type": "code",
   "execution_count": 596,
   "metadata": {},
   "outputs": [
    {
     "data": {
      "text/plain": [
       "True     1553\n",
       "False     522\n",
       "Name: p2_dog, dtype: int64"
      ]
     },
     "execution_count": 596,
     "metadata": {},
     "output_type": "execute_result"
    }
   ],
   "source": [
    "image_predictions.p2_dog.value_counts()"
   ]
  },
  {
   "cell_type": "code",
   "execution_count": 597,
   "metadata": {},
   "outputs": [
    {
     "data": {
      "text/plain": [
       "True     1532\n",
       "False     543\n",
       "Name: p1_dog, dtype: int64"
      ]
     },
     "execution_count": 597,
     "metadata": {},
     "output_type": "execute_result"
    }
   ],
   "source": [
    "image_predictions.p1_dog.value_counts()"
   ]
  },
  {
   "cell_type": "code",
   "execution_count": 598,
   "metadata": {},
   "outputs": [
    {
     "data": {
      "text/plain": [
       "0.366248    2\n",
       "0.713293    2\n",
       "0.375098    2\n",
       "0.636169    2\n",
       "0.611525    2\n",
       "           ..\n",
       "0.713102    1\n",
       "0.765266    1\n",
       "0.491022    1\n",
       "0.905334    1\n",
       "1.000000    1\n",
       "Name: p1_conf, Length: 2006, dtype: int64"
      ]
     },
     "execution_count": 598,
     "metadata": {},
     "output_type": "execute_result"
    }
   ],
   "source": [
    "image_predictions.p1_conf.value_counts()"
   ]
  },
  {
   "cell_type": "code",
   "execution_count": 599,
   "metadata": {},
   "outputs": [
    {
     "data": {
      "text/plain": [
       "0.094759    2\n",
       "0.035711    2\n",
       "0.000428    2\n",
       "0.044660    2\n",
       "0.162084    2\n",
       "           ..\n",
       "0.024007    1\n",
       "0.132820    1\n",
       "0.002099    1\n",
       "0.083643    1\n",
       "0.033835    1\n",
       "Name: p3_conf, Length: 2006, dtype: int64"
      ]
     },
     "execution_count": 599,
     "metadata": {},
     "output_type": "execute_result"
    }
   ],
   "source": [
    "image_predictions.p3_conf.value_counts()"
   ]
  },
  {
   "cell_type": "markdown",
   "metadata": {},
   "source": [
    "`3.` Additional Data via the Twitter API:"
   ]
  },
  {
   "cell_type": "code",
   "execution_count": 600,
   "metadata": {},
   "outputs": [
    {
     "data": {
      "text/html": [
       "<div>\n",
       "<style scoped>\n",
       "    .dataframe tbody tr th:only-of-type {\n",
       "        vertical-align: middle;\n",
       "    }\n",
       "\n",
       "    .dataframe tbody tr th {\n",
       "        vertical-align: top;\n",
       "    }\n",
       "\n",
       "    .dataframe thead th {\n",
       "        text-align: right;\n",
       "    }\n",
       "</style>\n",
       "<table border=\"1\" class=\"dataframe\">\n",
       "  <thead>\n",
       "    <tr style=\"text-align: right;\">\n",
       "      <th></th>\n",
       "      <th>tweet_id</th>\n",
       "      <th>retweets_count</th>\n",
       "      <th>favorites_count</th>\n",
       "    </tr>\n",
       "  </thead>\n",
       "  <tbody>\n",
       "    <tr>\n",
       "      <td>0</td>\n",
       "      <td>892420643555336193</td>\n",
       "      <td>8853</td>\n",
       "      <td>39467</td>\n",
       "    </tr>\n",
       "    <tr>\n",
       "      <td>1</td>\n",
       "      <td>892177421306343426</td>\n",
       "      <td>6514</td>\n",
       "      <td>33819</td>\n",
       "    </tr>\n",
       "    <tr>\n",
       "      <td>2</td>\n",
       "      <td>891815181378084864</td>\n",
       "      <td>4328</td>\n",
       "      <td>25461</td>\n",
       "    </tr>\n",
       "    <tr>\n",
       "      <td>3</td>\n",
       "      <td>891689557279858688</td>\n",
       "      <td>8964</td>\n",
       "      <td>42908</td>\n",
       "    </tr>\n",
       "    <tr>\n",
       "      <td>4</td>\n",
       "      <td>891327558926688256</td>\n",
       "      <td>9774</td>\n",
       "      <td>41048</td>\n",
       "    </tr>\n",
       "  </tbody>\n",
       "</table>\n",
       "</div>"
      ],
      "text/plain": [
       "             tweet_id retweets_count favorites_count\n",
       "0  892420643555336193           8853           39467\n",
       "1  892177421306343426           6514           33819\n",
       "2  891815181378084864           4328           25461\n",
       "3  891689557279858688           8964           42908\n",
       "4  891327558926688256           9774           41048"
      ]
     },
     "execution_count": 600,
     "metadata": {},
     "output_type": "execute_result"
    }
   ],
   "source": [
    "tweets.head()"
   ]
  },
  {
   "cell_type": "code",
   "execution_count": 601,
   "metadata": {},
   "outputs": [
    {
     "name": "stdout",
     "output_type": "stream",
     "text": [
      "<class 'pandas.core.frame.DataFrame'>\n",
      "RangeIndex: 2354 entries, 0 to 2353\n",
      "Data columns (total 3 columns):\n",
      "tweet_id           2354 non-null object\n",
      "retweets_count     2354 non-null object\n",
      "favorites_count    2354 non-null object\n",
      "dtypes: object(3)\n",
      "memory usage: 55.3+ KB\n"
     ]
    }
   ],
   "source": [
    "tweets.info()"
   ]
  },
  {
   "cell_type": "code",
   "execution_count": 602,
   "metadata": {},
   "outputs": [
    {
     "data": {
      "text/plain": [
       "667495797102141441    1\n",
       "689623661272240129    1\n",
       "758355060040593408    1\n",
       "729838605770891264    1\n",
       "676897532954456065    1\n",
       "                     ..\n",
       "886736880519319552    1\n",
       "829141528400556032    1\n",
       "691459709405118465    1\n",
       "887705289381826560    1\n",
       "891815181378084864    1\n",
       "Name: tweet_id, Length: 2354, dtype: int64"
      ]
     },
     "execution_count": 602,
     "metadata": {},
     "output_type": "execute_result"
    }
   ],
   "source": [
    "tweets.tweet_id.value_counts()"
   ]
  },
  {
   "cell_type": "code",
   "execution_count": 603,
   "metadata": {},
   "outputs": [
    {
     "data": {
      "text/plain": [
       "3652    5\n",
       "83      5\n",
       "1972    5\n",
       "146     4\n",
       "819     4\n",
       "       ..\n",
       "1814    1\n",
       "1819    1\n",
       "1824    1\n",
       "1825    1\n",
       "0       1\n",
       "Name: retweets_count, Length: 1724, dtype: int64"
      ]
     },
     "execution_count": 603,
     "metadata": {},
     "output_type": "execute_result"
    }
   ],
   "source": [
    "tweets.retweets_count.value_counts()"
   ]
  },
  {
   "cell_type": "code",
   "execution_count": 604,
   "metadata": {},
   "outputs": [
    {
     "data": {
      "text/plain": [
       "0        179\n",
       "2176       3\n",
       "610        3\n",
       "1339       3\n",
       "2706       3\n",
       "        ... \n",
       "6648       1\n",
       "23767      1\n",
       "35324      1\n",
       "35325      1\n",
       "18278      1\n",
       "Name: favorites_count, Length: 2007, dtype: int64"
      ]
     },
     "execution_count": 604,
     "metadata": {},
     "output_type": "execute_result"
    }
   ],
   "source": [
    "tweets.favorites_count.value_counts()"
   ]
  },
  {
   "cell_type": "markdown",
   "metadata": {},
   "source": [
    "##### Quality issues:\n",
    "* **Missing values** in (`in_reply_to_status_id`, `in_reply_to_user_id`, `retweeted_status_id`,\n",
    "    `retweeted_status_user_id`, `retweeted_status_timestamp`, `expanded_urls`)\n",
    "* **Missing values** represented as None **NOT** NaN   \n",
    "* **invalid data** in `rating_denominator`. The only valide value is `10`\n",
    "* **inaccurate data** in the `name`(i.e. a, O, .. )\n",
    "* **incorrect data type** in `timestamp` and `retweeted_status_timestamp`(should be datetime) \n",
    "* **incorrect data type** in `rating_numerator` (should be float)\n",
    "* **droping** some unnedded colunms (`in_reply_to_status_id`, `in_reply_to_user_id`, `retweeted_status_id`,\n",
    "    `retweeted_status_user_id`)\n",
    "    * **unnecessary colunms**\n",
    "* **incorrect data type** in `tweet_id` (should be string)\n",
    "* **six colunms one purpose** the dog classification \n",
    "\n",
    "##### Tidiness issues:\n",
    "* mergingng the three dataframes\n",
    "* the stages (`doggo`, `floofer`, `pupper`, `puppo`) should be merged into one colunm `stage`"
   ]
  },
  {
   "cell_type": "markdown",
   "metadata": {},
   "source": [
    "<a id='clean'></a>\n",
    "## 3- Cleaning Data\n",
    "- Clean each of the issues you documented while assessing. The result should be a high quality and tidy master pandas DataFrame (or DataFrames, if appropriate). Again, the issues that satisfy the Project Motivation must be cleaned."
   ]
  },
  {
   "cell_type": "code",
   "execution_count": 605,
   "metadata": {},
   "outputs": [],
   "source": [
    "# Creat a copy for cleaning \n",
    "archive_clean = WeRateDogs_archive.copy()\n",
    "img_pre_clean = image_predictions.copy()\n",
    "tweets_clean = tweets.copy()"
   ]
  },
  {
   "cell_type": "markdown",
   "metadata": {},
   "source": [
    "## Tidiness issues:\n"
   ]
  },
  {
   "cell_type": "markdown",
   "metadata": {},
   "source": [
    "**Define**\n",
    "* Mergingng the three dataframes"
   ]
  },
  {
   "cell_type": "markdown",
   "metadata": {},
   "source": [
    "**Code**"
   ]
  },
  {
   "cell_type": "code",
   "execution_count": 606,
   "metadata": {},
   "outputs": [],
   "source": [
    "# DataFrame.merge(right, how='inner', on=None, left_on=None, right_on=None, left_index=False, right_index=False, sort=False,\n",
    "# suffixes='_x', '_y', copy=True, indicator=False, validate=None)\n",
    "\n",
    "df_clean = pd.merge(archive_clean, tweets_clean, left_on = 'tweet_id', right_on = 'tweet_id')\n",
    "df_clean = pd.merge(df_clean, img_pre_clean, left_on = 'tweet_id', right_on = 'tweet_id')\n",
    "# OR df_clean.merge(tweets_clean, left_on = 'tweet_id', right_on = 'tweet_id')"
   ]
  },
  {
   "cell_type": "markdown",
   "metadata": {},
   "source": [
    "**Test**"
   ]
  },
  {
   "cell_type": "code",
   "execution_count": 607,
   "metadata": {},
   "outputs": [
    {
     "data": {
      "text/html": [
       "<div>\n",
       "<style scoped>\n",
       "    .dataframe tbody tr th:only-of-type {\n",
       "        vertical-align: middle;\n",
       "    }\n",
       "\n",
       "    .dataframe tbody tr th {\n",
       "        vertical-align: top;\n",
       "    }\n",
       "\n",
       "    .dataframe thead th {\n",
       "        text-align: right;\n",
       "    }\n",
       "</style>\n",
       "<table border=\"1\" class=\"dataframe\">\n",
       "  <thead>\n",
       "    <tr style=\"text-align: right;\">\n",
       "      <th></th>\n",
       "      <th>tweet_id</th>\n",
       "      <th>in_reply_to_status_id</th>\n",
       "      <th>in_reply_to_user_id</th>\n",
       "      <th>timestamp</th>\n",
       "      <th>source</th>\n",
       "      <th>text</th>\n",
       "      <th>retweeted_status_id</th>\n",
       "      <th>retweeted_status_user_id</th>\n",
       "      <th>retweeted_status_timestamp</th>\n",
       "      <th>expanded_urls</th>\n",
       "      <th>...</th>\n",
       "      <th>img_num</th>\n",
       "      <th>p1</th>\n",
       "      <th>p1_conf</th>\n",
       "      <th>p1_dog</th>\n",
       "      <th>p2</th>\n",
       "      <th>p2_conf</th>\n",
       "      <th>p2_dog</th>\n",
       "      <th>p3</th>\n",
       "      <th>p3_conf</th>\n",
       "      <th>p3_dog</th>\n",
       "    </tr>\n",
       "  </thead>\n",
       "  <tbody>\n",
       "    <tr>\n",
       "      <td>0</td>\n",
       "      <td>892420643555336193</td>\n",
       "      <td>NaN</td>\n",
       "      <td>NaN</td>\n",
       "      <td>2017-08-01 16:23:56 +0000</td>\n",
       "      <td>&lt;a href=\"http://twitter.com/download/iphone\" r...</td>\n",
       "      <td>This is Phineas. He's a mystical boy. Only eve...</td>\n",
       "      <td>NaN</td>\n",
       "      <td>NaN</td>\n",
       "      <td>NaN</td>\n",
       "      <td>https://twitter.com/dog_rates/status/892420643...</td>\n",
       "      <td>...</td>\n",
       "      <td>1</td>\n",
       "      <td>orange</td>\n",
       "      <td>0.097049</td>\n",
       "      <td>False</td>\n",
       "      <td>bagel</td>\n",
       "      <td>0.085851</td>\n",
       "      <td>False</td>\n",
       "      <td>banana</td>\n",
       "      <td>0.076110</td>\n",
       "      <td>False</td>\n",
       "    </tr>\n",
       "    <tr>\n",
       "      <td>1</td>\n",
       "      <td>892177421306343426</td>\n",
       "      <td>NaN</td>\n",
       "      <td>NaN</td>\n",
       "      <td>2017-08-01 00:17:27 +0000</td>\n",
       "      <td>&lt;a href=\"http://twitter.com/download/iphone\" r...</td>\n",
       "      <td>This is Tilly. She's just checking pup on you....</td>\n",
       "      <td>NaN</td>\n",
       "      <td>NaN</td>\n",
       "      <td>NaN</td>\n",
       "      <td>https://twitter.com/dog_rates/status/892177421...</td>\n",
       "      <td>...</td>\n",
       "      <td>1</td>\n",
       "      <td>Chihuahua</td>\n",
       "      <td>0.323581</td>\n",
       "      <td>True</td>\n",
       "      <td>Pekinese</td>\n",
       "      <td>0.090647</td>\n",
       "      <td>True</td>\n",
       "      <td>papillon</td>\n",
       "      <td>0.068957</td>\n",
       "      <td>True</td>\n",
       "    </tr>\n",
       "    <tr>\n",
       "      <td>2</td>\n",
       "      <td>891815181378084864</td>\n",
       "      <td>NaN</td>\n",
       "      <td>NaN</td>\n",
       "      <td>2017-07-31 00:18:03 +0000</td>\n",
       "      <td>&lt;a href=\"http://twitter.com/download/iphone\" r...</td>\n",
       "      <td>This is Archie. He is a rare Norwegian Pouncin...</td>\n",
       "      <td>NaN</td>\n",
       "      <td>NaN</td>\n",
       "      <td>NaN</td>\n",
       "      <td>https://twitter.com/dog_rates/status/891815181...</td>\n",
       "      <td>...</td>\n",
       "      <td>1</td>\n",
       "      <td>Chihuahua</td>\n",
       "      <td>0.716012</td>\n",
       "      <td>True</td>\n",
       "      <td>malamute</td>\n",
       "      <td>0.078253</td>\n",
       "      <td>True</td>\n",
       "      <td>kelpie</td>\n",
       "      <td>0.031379</td>\n",
       "      <td>True</td>\n",
       "    </tr>\n",
       "    <tr>\n",
       "      <td>3</td>\n",
       "      <td>891689557279858688</td>\n",
       "      <td>NaN</td>\n",
       "      <td>NaN</td>\n",
       "      <td>2017-07-30 15:58:51 +0000</td>\n",
       "      <td>&lt;a href=\"http://twitter.com/download/iphone\" r...</td>\n",
       "      <td>This is Darla. She commenced a snooze mid meal...</td>\n",
       "      <td>NaN</td>\n",
       "      <td>NaN</td>\n",
       "      <td>NaN</td>\n",
       "      <td>https://twitter.com/dog_rates/status/891689557...</td>\n",
       "      <td>...</td>\n",
       "      <td>1</td>\n",
       "      <td>paper_towel</td>\n",
       "      <td>0.170278</td>\n",
       "      <td>False</td>\n",
       "      <td>Labrador_retriever</td>\n",
       "      <td>0.168086</td>\n",
       "      <td>True</td>\n",
       "      <td>spatula</td>\n",
       "      <td>0.040836</td>\n",
       "      <td>False</td>\n",
       "    </tr>\n",
       "    <tr>\n",
       "      <td>4</td>\n",
       "      <td>891327558926688256</td>\n",
       "      <td>NaN</td>\n",
       "      <td>NaN</td>\n",
       "      <td>2017-07-29 16:00:24 +0000</td>\n",
       "      <td>&lt;a href=\"http://twitter.com/download/iphone\" r...</td>\n",
       "      <td>This is Franklin. He would like you to stop ca...</td>\n",
       "      <td>NaN</td>\n",
       "      <td>NaN</td>\n",
       "      <td>NaN</td>\n",
       "      <td>https://twitter.com/dog_rates/status/891327558...</td>\n",
       "      <td>...</td>\n",
       "      <td>2</td>\n",
       "      <td>basset</td>\n",
       "      <td>0.555712</td>\n",
       "      <td>True</td>\n",
       "      <td>English_springer</td>\n",
       "      <td>0.225770</td>\n",
       "      <td>True</td>\n",
       "      <td>German_short-haired_pointer</td>\n",
       "      <td>0.175219</td>\n",
       "      <td>True</td>\n",
       "    </tr>\n",
       "  </tbody>\n",
       "</table>\n",
       "<p>5 rows × 30 columns</p>\n",
       "</div>"
      ],
      "text/plain": [
       "             tweet_id  in_reply_to_status_id  in_reply_to_user_id  \\\n",
       "0  892420643555336193                    NaN                  NaN   \n",
       "1  892177421306343426                    NaN                  NaN   \n",
       "2  891815181378084864                    NaN                  NaN   \n",
       "3  891689557279858688                    NaN                  NaN   \n",
       "4  891327558926688256                    NaN                  NaN   \n",
       "\n",
       "                   timestamp  \\\n",
       "0  2017-08-01 16:23:56 +0000   \n",
       "1  2017-08-01 00:17:27 +0000   \n",
       "2  2017-07-31 00:18:03 +0000   \n",
       "3  2017-07-30 15:58:51 +0000   \n",
       "4  2017-07-29 16:00:24 +0000   \n",
       "\n",
       "                                              source  \\\n",
       "0  <a href=\"http://twitter.com/download/iphone\" r...   \n",
       "1  <a href=\"http://twitter.com/download/iphone\" r...   \n",
       "2  <a href=\"http://twitter.com/download/iphone\" r...   \n",
       "3  <a href=\"http://twitter.com/download/iphone\" r...   \n",
       "4  <a href=\"http://twitter.com/download/iphone\" r...   \n",
       "\n",
       "                                                text  retweeted_status_id  \\\n",
       "0  This is Phineas. He's a mystical boy. Only eve...                  NaN   \n",
       "1  This is Tilly. She's just checking pup on you....                  NaN   \n",
       "2  This is Archie. He is a rare Norwegian Pouncin...                  NaN   \n",
       "3  This is Darla. She commenced a snooze mid meal...                  NaN   \n",
       "4  This is Franklin. He would like you to stop ca...                  NaN   \n",
       "\n",
       "   retweeted_status_user_id retweeted_status_timestamp  \\\n",
       "0                       NaN                        NaN   \n",
       "1                       NaN                        NaN   \n",
       "2                       NaN                        NaN   \n",
       "3                       NaN                        NaN   \n",
       "4                       NaN                        NaN   \n",
       "\n",
       "                                       expanded_urls  ...  img_num  \\\n",
       "0  https://twitter.com/dog_rates/status/892420643...  ...        1   \n",
       "1  https://twitter.com/dog_rates/status/892177421...  ...        1   \n",
       "2  https://twitter.com/dog_rates/status/891815181...  ...        1   \n",
       "3  https://twitter.com/dog_rates/status/891689557...  ...        1   \n",
       "4  https://twitter.com/dog_rates/status/891327558...  ...        2   \n",
       "\n",
       "            p1   p1_conf p1_dog                  p2   p2_conf p2_dog  \\\n",
       "0       orange  0.097049  False               bagel  0.085851  False   \n",
       "1    Chihuahua  0.323581   True            Pekinese  0.090647   True   \n",
       "2    Chihuahua  0.716012   True            malamute  0.078253   True   \n",
       "3  paper_towel  0.170278  False  Labrador_retriever  0.168086   True   \n",
       "4       basset  0.555712   True    English_springer  0.225770   True   \n",
       "\n",
       "                            p3   p3_conf p3_dog  \n",
       "0                       banana  0.076110  False  \n",
       "1                     papillon  0.068957   True  \n",
       "2                       kelpie  0.031379   True  \n",
       "3                      spatula  0.040836  False  \n",
       "4  German_short-haired_pointer  0.175219   True  \n",
       "\n",
       "[5 rows x 30 columns]"
      ]
     },
     "execution_count": 607,
     "metadata": {},
     "output_type": "execute_result"
    }
   ],
   "source": [
    "df_clean.head()"
   ]
  },
  {
   "cell_type": "code",
   "execution_count": 608,
   "metadata": {},
   "outputs": [
    {
     "name": "stdout",
     "output_type": "stream",
     "text": [
      "<class 'pandas.core.frame.DataFrame'>\n",
      "Int64Index: 2073 entries, 0 to 2072\n",
      "Data columns (total 30 columns):\n",
      "tweet_id                      2073 non-null object\n",
      "in_reply_to_status_id         23 non-null float64\n",
      "in_reply_to_user_id           23 non-null float64\n",
      "timestamp                     2073 non-null object\n",
      "source                        2073 non-null object\n",
      "text                          2073 non-null object\n",
      "retweeted_status_id           79 non-null float64\n",
      "retweeted_status_user_id      79 non-null float64\n",
      "retweeted_status_timestamp    79 non-null object\n",
      "expanded_urls                 2073 non-null object\n",
      "rating_numerator              2073 non-null int64\n",
      "rating_denominator            2073 non-null int64\n",
      "name                          2073 non-null object\n",
      "doggo                         2073 non-null object\n",
      "floofer                       2073 non-null object\n",
      "pupper                        2073 non-null object\n",
      "puppo                         2073 non-null object\n",
      "retweets_count                2073 non-null object\n",
      "favorites_count               2073 non-null object\n",
      "jpg_url                       2073 non-null object\n",
      "img_num                       2073 non-null int64\n",
      "p1                            2073 non-null object\n",
      "p1_conf                       2073 non-null float64\n",
      "p1_dog                        2073 non-null bool\n",
      "p2                            2073 non-null object\n",
      "p2_conf                       2073 non-null float64\n",
      "p2_dog                        2073 non-null bool\n",
      "p3                            2073 non-null object\n",
      "p3_conf                       2073 non-null float64\n",
      "p3_dog                        2073 non-null bool\n",
      "dtypes: bool(3), float64(7), int64(3), object(17)\n",
      "memory usage: 459.5+ KB\n"
     ]
    }
   ],
   "source": [
    "df_clean.info()"
   ]
  },
  {
   "cell_type": "markdown",
   "metadata": {},
   "source": [
    "**Define**\n",
    "* The stages (doggo, floofer, pupper, puppo) should be merged into one colunm stage"
   ]
  },
  {
   "cell_type": "markdown",
   "metadata": {},
   "source": [
    "**Code**"
   ]
  },
  {
   "cell_type": "code",
   "execution_count": 609,
   "metadata": {},
   "outputs": [],
   "source": [
    "# df_clean.doggo.fillna(value=pd.np.nan, inplace=True)\n",
    "# df_clean.floofer.fillna(value=pd.np.nan, inplace=True)\n",
    "# df_clean.pupper.fillna(value=pd.np.nan, inplace=True)\n",
    "# df_clean.puppo.fillna(value=pd.np.nan, inplace=True)"
   ]
  },
  {
   "cell_type": "code",
   "execution_count": 610,
   "metadata": {},
   "outputs": [],
   "source": [
    "# First we need to fill the empty with NAN\n",
    "df_clean.doggo.replace('None', '', inplace = True)\n",
    "df_clean.floofer.replace('None', '', inplace = True)\n",
    "df_clean.pupper.replace('None', '', inplace = True)\n",
    "df_clean.puppo.replace('None', '', inplace = True)"
   ]
  },
  {
   "cell_type": "code",
   "execution_count": 611,
   "metadata": {},
   "outputs": [
    {
     "name": "stdout",
     "output_type": "stream",
     "text": [
      "<class 'pandas.core.frame.DataFrame'>\n",
      "Int64Index: 2073 entries, 0 to 2072\n",
      "Data columns (total 30 columns):\n",
      "tweet_id                      2073 non-null object\n",
      "in_reply_to_status_id         23 non-null float64\n",
      "in_reply_to_user_id           23 non-null float64\n",
      "timestamp                     2073 non-null object\n",
      "source                        2073 non-null object\n",
      "text                          2073 non-null object\n",
      "retweeted_status_id           79 non-null float64\n",
      "retweeted_status_user_id      79 non-null float64\n",
      "retweeted_status_timestamp    79 non-null object\n",
      "expanded_urls                 2073 non-null object\n",
      "rating_numerator              2073 non-null int64\n",
      "rating_denominator            2073 non-null int64\n",
      "name                          2073 non-null object\n",
      "doggo                         2073 non-null object\n",
      "floofer                       2073 non-null object\n",
      "pupper                        2073 non-null object\n",
      "puppo                         2073 non-null object\n",
      "retweets_count                2073 non-null object\n",
      "favorites_count               2073 non-null object\n",
      "jpg_url                       2073 non-null object\n",
      "img_num                       2073 non-null int64\n",
      "p1                            2073 non-null object\n",
      "p1_conf                       2073 non-null float64\n",
      "p1_dog                        2073 non-null bool\n",
      "p2                            2073 non-null object\n",
      "p2_conf                       2073 non-null float64\n",
      "p2_dog                        2073 non-null bool\n",
      "p3                            2073 non-null object\n",
      "p3_conf                       2073 non-null float64\n",
      "p3_dog                        2073 non-null bool\n",
      "dtypes: bool(3), float64(7), int64(3), object(17)\n",
      "memory usage: 459.5+ KB\n"
     ]
    }
   ],
   "source": [
    "df_clean.info()"
   ]
  },
  {
   "cell_type": "code",
   "execution_count": 612,
   "metadata": {},
   "outputs": [],
   "source": [
    "# save them in one colunm \n",
    "df_clean['stages'] = df_clean.doggo + df_clean.floofer + df_clean.pupper + df_clean.puppo"
   ]
  },
  {
   "cell_type": "code",
   "execution_count": 613,
   "metadata": {},
   "outputs": [
    {
     "data": {
      "text/plain": [
       "                1753\n",
       "pupper           210\n",
       "doggo             67\n",
       "puppo             23\n",
       "doggopupper       11\n",
       "floofer            7\n",
       "doggopuppo         1\n",
       "doggofloofer       1\n",
       "Name: stages, dtype: int64"
      ]
     },
     "execution_count": 613,
     "metadata": {},
     "output_type": "execute_result"
    }
   ],
   "source": [
    "df_clean['stages'].value_counts()"
   ]
  },
  {
   "cell_type": "markdown",
   "metadata": {},
   "source": [
    "unique cases: doggopupper, doggopuppo, doggofloofer .... "
   ]
  },
  {
   "cell_type": "code",
   "execution_count": 614,
   "metadata": {},
   "outputs": [],
   "source": [
    "# For more readability I will change the names\n",
    "df_clean.stages.replace('doggopupper','doggo_pupper', inplace = True)\n",
    "df_clean.stages.replace('doggopuppo','doggo_puppo', inplace = True)\n",
    "df_clean.stages.replace('doggofloofer','doggo_floofer', inplace = True)"
   ]
  },
  {
   "cell_type": "code",
   "execution_count": 615,
   "metadata": {},
   "outputs": [],
   "source": [
    "# Drop the four colunms\n",
    "df_clean.drop(['floofer', 'puppo', 'doggo', 'pupper'], axis = 1, inplace = True)"
   ]
  },
  {
   "cell_type": "markdown",
   "metadata": {},
   "source": [
    "**Test**"
   ]
  },
  {
   "cell_type": "code",
   "execution_count": 616,
   "metadata": {},
   "outputs": [
    {
     "name": "stdout",
     "output_type": "stream",
     "text": [
      "<class 'pandas.core.frame.DataFrame'>\n",
      "Int64Index: 2073 entries, 0 to 2072\n",
      "Data columns (total 27 columns):\n",
      "tweet_id                      2073 non-null object\n",
      "in_reply_to_status_id         23 non-null float64\n",
      "in_reply_to_user_id           23 non-null float64\n",
      "timestamp                     2073 non-null object\n",
      "source                        2073 non-null object\n",
      "text                          2073 non-null object\n",
      "retweeted_status_id           79 non-null float64\n",
      "retweeted_status_user_id      79 non-null float64\n",
      "retweeted_status_timestamp    79 non-null object\n",
      "expanded_urls                 2073 non-null object\n",
      "rating_numerator              2073 non-null int64\n",
      "rating_denominator            2073 non-null int64\n",
      "name                          2073 non-null object\n",
      "retweets_count                2073 non-null object\n",
      "favorites_count               2073 non-null object\n",
      "jpg_url                       2073 non-null object\n",
      "img_num                       2073 non-null int64\n",
      "p1                            2073 non-null object\n",
      "p1_conf                       2073 non-null float64\n",
      "p1_dog                        2073 non-null bool\n",
      "p2                            2073 non-null object\n",
      "p2_conf                       2073 non-null float64\n",
      "p2_dog                        2073 non-null bool\n",
      "p3                            2073 non-null object\n",
      "p3_conf                       2073 non-null float64\n",
      "p3_dog                        2073 non-null bool\n",
      "stages                        2073 non-null object\n",
      "dtypes: bool(3), float64(7), int64(3), object(14)\n",
      "memory usage: 411.0+ KB\n"
     ]
    }
   ],
   "source": [
    "df_clean.info()"
   ]
  },
  {
   "cell_type": "code",
   "execution_count": 617,
   "metadata": {},
   "outputs": [
    {
     "data": {
      "text/plain": [
       "                 1753\n",
       "pupper            210\n",
       "doggo              67\n",
       "puppo              23\n",
       "doggo_pupper       11\n",
       "floofer             7\n",
       "doggo_puppo         1\n",
       "doggo_floofer       1\n",
       "Name: stages, dtype: int64"
      ]
     },
     "execution_count": 617,
     "metadata": {},
     "output_type": "execute_result"
    }
   ],
   "source": [
    "df_clean['stages'].value_counts()"
   ]
  },
  {
   "cell_type": "markdown",
   "metadata": {},
   "source": [
    "## Quality issues:"
   ]
  },
  {
   "cell_type": "markdown",
   "metadata": {},
   "source": [
    "**Define**\n",
    "* Missing values represented as None NOT NaN\n",
    "\n",
    "**Already solved above **"
   ]
  },
  {
   "cell_type": "markdown",
   "metadata": {},
   "source": [
    "**Define**\n",
    "* invalid data in rating_denominator. The only valide value is 10"
   ]
  },
  {
   "cell_type": "markdown",
   "metadata": {},
   "source": [
    "**Code**"
   ]
  },
  {
   "cell_type": "code",
   "execution_count": 618,
   "metadata": {},
   "outputs": [
    {
     "data": {
      "text/plain": [
       "10     2055\n",
       "50        3\n",
       "11        2\n",
       "80        2\n",
       "7         1\n",
       "170       1\n",
       "150       1\n",
       "130       1\n",
       "120       1\n",
       "110       1\n",
       "90        1\n",
       "70        1\n",
       "40        1\n",
       "20        1\n",
       "2         1\n",
       "Name: rating_denominator, dtype: int64"
      ]
     },
     "execution_count": 618,
     "metadata": {},
     "output_type": "execute_result"
    }
   ],
   "source": [
    "df_clean.rating_denominator.value_counts()"
   ]
  },
  {
   "cell_type": "code",
   "execution_count": 619,
   "metadata": {},
   "outputs": [],
   "source": [
    "df_clean.rating_denominator = 10"
   ]
  },
  {
   "cell_type": "markdown",
   "metadata": {},
   "source": [
    "**Test**"
   ]
  },
  {
   "cell_type": "code",
   "execution_count": 620,
   "metadata": {},
   "outputs": [
    {
     "data": {
      "text/plain": [
       "10    2073\n",
       "Name: rating_denominator, dtype: int64"
      ]
     },
     "execution_count": 620,
     "metadata": {},
     "output_type": "execute_result"
    }
   ],
   "source": [
    "df_clean.rating_denominator.value_counts()"
   ]
  },
  {
   "cell_type": "markdown",
   "metadata": {},
   "source": [
    "**Define**\n",
    "* inaccurate data in the name(i.e. a, O, .. )"
   ]
  },
  {
   "cell_type": "markdown",
   "metadata": {},
   "source": [
    "**Code**"
   ]
  },
  {
   "cell_type": "code",
   "execution_count": 621,
   "metadata": {},
   "outputs": [
    {
     "data": {
      "text/plain": [
       "0        Phineas\n",
       "1          Tilly\n",
       "2         Archie\n",
       "3          Darla\n",
       "4       Franklin\n",
       "          ...   \n",
       "2068        None\n",
       "2069           a\n",
       "2070           a\n",
       "2071           a\n",
       "2072        None\n",
       "Name: name, Length: 2073, dtype: object"
      ]
     },
     "execution_count": 621,
     "metadata": {},
     "output_type": "execute_result"
    }
   ],
   "source": [
    "df_clean.name"
   ]
  },
  {
   "cell_type": "code",
   "execution_count": 622,
   "metadata": {},
   "outputs": [],
   "source": [
    "name_list = list(df_clean.name)"
   ]
  },
  {
   "cell_type": "code",
   "execution_count": 623,
   "metadata": {},
   "outputs": [
    {
     "name": "stdout",
     "output_type": "stream",
     "text": [
      "['Phineas', 'Tilly', 'Archie', 'Darla', 'Franklin', 'None', 'Jax', 'None', 'Zoey', 'Cassie', 'Koda', 'Bruno', 'None', 'Ted', 'Stuart', 'Oliver', 'Jim', 'Zeke', 'Ralphus', 'Gerald', 'Jeffrey', 'such', 'Canela', 'None', 'None', 'Maya', 'Mingus', 'Derek', 'Roscoe', 'Waffles', 'Jimbo', 'Maisey', 'Lilly', 'None', 'Earl', 'Lola', 'Kevin', 'None', 'Yogi', 'Noah', 'Bella', 'Grizzwald', 'None', 'Rusty', 'Gus', 'Stanley', 'Alfy', 'Koko', 'Rey', 'Gary', 'a', 'Elliot', 'Louis', 'None', 'Bella', 'Jesse', 'None', 'Romeo', 'Bailey', 'Duddles', 'Jack', 'Steven', 'Beau', 'Snoopy', 'Shadow', 'Emmy', 'Aja', 'None', 'Penny', 'Dante', 'Nelly', 'Ginger', 'Benedict', 'Venti', 'Goose', 'Nugget', 'None', 'Cash', 'Jed', 'None', 'Sebastian', 'Walter', 'None', 'Sierra', 'None', 'None', 'Monkey', 'None', 'Harry', 'Kody', 'Lassie', 'Rover', 'Napolean', 'Boomer', 'None', 'Cody', 'Zoey', 'Rumble', 'Clifford', 'Dewey', 'Stanley', 'Scout', 'Gizmo', 'Walter', 'None', 'Cooper', 'None', 'Harold', 'Shikha', 'None', 'None', 'Lili', 'Jamesy', 'Coco', 'Boomer', 'Sammy', 'Nelly', 'None', 'Meatball', 'Paisley', 'Albus', 'Neptune', 'Belle', 'None', 'Quinn', 'Zooey', 'Dave', 'Jersey', 'None', 'None', 'Hobbes', 'None', 'Burt', 'None', 'Lorenzo', 'Carl', 'Jordy', 'None', 'Milky', 'Trooper', 'None', 'quite', 'None', 'None', 'Sophie', 'Wyatt', 'Rosie', 'Thor', 'None', 'Oscar', 'Zeke', 'Callie', 'None', 'Cermet', 'None', 'quite', 'Marlee', 'Arya', 'Einstein', 'None', 'None', 'Alice', 'None', 'Rumpole', 'Benny', 'Aspen', 'Jarod', 'Wiggles', 'General', 'Sailor', 'Astrid', 'None', 'None', 'Iggy', 'Snoop', 'Kyle', 'Leo', 'Riley', 'Boomer', 'None', 'Noosh', 'None', 'Kevin', 'None', 'Odin', 'Jerry', 'None', 'Georgie', 'Rontu', 'Cannon', 'Furzey', 'Daisy', 'None', 'Tuck', 'Barney', 'Vixen', 'Jarvis', 'None', 'None', 'Mimosa', 'Pickles', 'None', 'Brady', 'Luna', 'Charlie', 'Margo', 'Sadie', 'Hank', 'Tycho', 'Stephan', 'Charlie', 'Indie', 'Winnie', 'George', 'Bentley', 'Ken', 'Penny', 'None', 'Max', 'Dawn', 'None', 'Maddie', 'None', 'Monty', 'Sojourner', 'Winston', 'None', 'Odie', 'Arlo', 'None', 'Walter', 'Stanley', 'Daisy', 'None', 'Waffles', 'Vincent', 'Lucy', 'Clark', 'None', 'Mookie', 'Meera', 'Oliver', 'Ava', 'Lucy', 'None', 'Eli', 'Ash', 'Lola', 'None', 'None', 'Tucker', 'Tobi', 'None', 'Chester', 'Wilson', 'Sunshine', 'Lipton', 'Bentley', 'Charlie', 'Bronte', 'Poppy', 'Gidget', 'Rhino', 'None', 'Willow', 'Orion', 'Eevee', 'Charlie', 'Smiley', 'Moreton', 'Klein', 'Miguel', 'Emanuel', 'Kuyu', 'Daisy', 'None', 'Dutch', 'Pete', 'None', 'Scooter', 'Tucker', 'Reggie', 'Lilly', 'Samson', 'Loki', 'Mia', 'Leo', 'None', 'Astrid', 'Malcolm', 'Dexter', 'Alfie', 'Fiona', 'one', 'Mutt', 'Bear', 'Doobert', 'Beebop', 'Alexander', 'Sailer', 'Brutus', 'Kona', 'Boots', 'Tucker', 'Ralphie', 'Charlie', 'Loki', 'Cupid', 'Pawnd', 'Pilot', 'None', 'None', 'Ike', 'Mo', 'Toby', 'None', 'Sweet', 'Pablo', 'Bailey', 'Scooter', 'Wilson', 'None', 'Nala', 'Cash', 'Winston', 'Crawford', 'Wyatt', 'None', 'Albus', 'None', 'Hobbes', 'Paisley', 'None', 'Paisley', 'Gabe', 'None', 'Jimison', 'Hercules', 'Duchess', 'Harlso', 'Sundance', 'Luca', 'None', 'Flash', 'Sunny', 'None', 'Peaches', 'None', 'None', 'Oliver', 'None', 'Howie', 'Jazzy', 'Anna', 'Finn', 'Bo', 'Sunny', 'Sunny', 'Bo', 'Wafer', 'Bear', 'Chelsea', 'Tom', 'Florence', 'Autumn', 'Buddy', 'Dido', 'Eugene', 'Ken', 'Strudel', 'None', 'Tebow', 'None', 'Chloe', 'Betty', 'Timber', 'Binky', 'Moose', 'Dudley', 'Comet', 'Larry', 'Jack', 'None', 'Akumi', 'Titan', 'None', 'Cooper', 'Olivia', 'Alf', 'Oshie', 'Bruce', 'Chubbs', 'Gary', 'Sky', 'Atlas', 'None', 'None', 'Eleanor', 'Layla', 'None', 'None', 'Toby', 'Rocky', 'Baron', 'Tyr', 'Bauer', 'Swagger', 'Brandi', 'None', 'Mary', 'Moe', 'Ted', 'Halo', 'Augie', 'Craig', 'Sam', 'Hunter', 'Pavlov', 'Phil', 'Gus', 'None', 'Maximus', 'None', 'Kyro', 'Wallace', 'Ito', 'None', 'Koda', 'Milo', 'None', 'Cooper', 'Ollie', 'Stephan', 'Cali', 'Lennon', 'None', 'Waffles', 'Dave', 'incredibly', 'Penny', 'Major', 'Duke', 'Zeke', 'Sansa', 'Shooter', 'Django', 'Rusty', 'Bo', 'Diogi', 'None', 'None', 'Sonny', 'Winston', 'Marley', 'None', 'Winnie', 'Severus', 'None', 'None', 'Loki', 'Ronnie', 'Wallace', 'None', 'Milo', 'Bones', 'Mauve', 'Chef', 'None', 'Sampson', 'Doc', 'Peaches', 'None', 'Tucker', 'Sobe', 'Longfellow', 'Jeffrey', 'Mister', 'Iroh', 'Shadow', 'Stubert', 'None', 'None', 'Lola', 'Paull', 'None', 'Davey', 'Cooper', 'None', 'Cassie', 'Pancake', 'Tyr', 'Romeo', 'None', 'Snicku', 'Ruby', 'Ruby', 'None', 'Yogi', 'Daisy', 'None', 'Brody', 'Bailey', 'Rizzy', 'Mack', 'Butter', 'Nimbus', 'Laika', 'Maximus', 'Clark', 'None', 'Dobby', 'Fiona', 'Moreton', 'Dave', 'None', 'Tucker', 'Juno', 'Maude', 'Lily', 'Newt', 'Benji', 'Nida', 'None', 'Robin', 'a', 'Bailey', 'Monster', 'BeBe', 'Remus', 'None', 'Levi', 'Mabel', 'Alfie', 'Misty', 'Betty', 'Happy', 'Mosby', 'Duke', 'Maggie', 'Bruce', 'Happy', 'Eli', 'Brownie', 'Rizzy', 'Stella', 'Bo', 'Lucy', 'Butter', 'Dexter', 'None', 'Leo', 'Bo', 'None', 'Frank', 'Tonks', 'Moose', 'Lincoln', 'Rory', 'Logan', 'None', 'Dale', 'Rizzo', 'Mattie', 'Scout', 'Lucy', 'Rusty', 'Pinot', 'Dallas', 'Doc', 'Hero', 'Rusty', 'Frankie', 'Stormy', 'Riley', 'Mairi', 'Loomis', 'Finn', 'Godi', 'Kenny', 'Dave', 'Earl', 'Cali', 'Deacon', 'Penny', 'Timmy', 'Sampson', 'Harper', 'Chipson', 'None', 'None', 'Oakley', 'None', 'None', 'Dash', 'Koda', 'Hercules', 'None', 'Bell', 'None', 'Bear', 'None', 'Scout', 'None', 'Reggie', 'None', 'Jay', 'Mya', 'Strider', 'Penny', 'None', 'an', 'Nala', 'Stanley', 'None', 'Sophie', 'Wesley', 'None', 'Arnie', 'Derek', 'Jeffrey', 'None', 'Solomon', 'Huck', 'None', 'O', 'Sampson', 'None', 'None', 'Blue', 'Anakin', 'None', 'Finley', 'Tucker', 'Finley', 'Sprinkles', 'None', 'Winnie', 'Heinrich', 'Loki', 'Shakespeare', 'Chelsea', 'Bungalo', 'Chip', 'Grey', 'None', 'Roosevelt', 'Gromit', 'a', 'Willem', 'None', 'Jack', 'Finn', 'Penny', 'Davey', 'Dakota', 'Fizz', 'Frankie', 'Dixie', 'Charlie', 'None', 'Winston', 'Sebastian', 'very', 'Al', 'Jackson', 'just', 'Carbon', 'Klein', 'Titan', 'DonDon', 'Kirby', 'Jesse', 'Lou', 'Oakley', 'Chevy', 'Gerald', 'Tito', 'Philbert', 'Louie', 'None', 'Rupert', 'Rufus', 'Brudge', 'Shadoe', 'Oscar', 'Colby', 'Juno', 'Angel', 'Brat', 'Tove', 'my', 'Louie', 'Gromit', 'Aubie', 'Kota', 'Alfie', 'Clark', 'Belle', 'Leela', 'Glenn', 'Buddy', 'Scout', 'None', 'Shelby', 'None', 'None', 'None', 'Sephie', 'None', 'Bruce', 'Bonaparte', 'Albert', 'Bo', 'Wishes', 'Rose', 'Theo', 'Atlas', 'Rocco', 'Fido', 'Sadie', 'None', 'Kirby', 'Maggie', 'None', 'Emma', 'Oakley', 'Luna', 'None', 'Toby', 'Spencer', 'Lilli', 'None', 'Boston', 'Brandonald', 'None', 'Odie', 'Corey', 'None', 'Leonard', 'Chompsky', 'Beckham', 'Cooper', 'None', 'None', 'None', 'None', 'Devón', 'Oliver', 'Jax', 'Gert', 'None', 'None', 'None', 'None', 'None', 'one', 'Watson', 'Rubio', 'Winnie', 'Keith', 'Milo', 'Dex', 'None', 'Charlie', 'None', 'None', 'Scout', 'Hank', 'Ace', 'Tayzie', 'Grizzie', 'None', 'None', 'None', 'None', 'None', 'Brody', 'Ruby', 'Tucker', 'Toby', 'None', 'Max', 'None', 'Gilbert', 'None', 'Cooper', 'Milo', 'Meyer', 'Malcolm', 'Arnie', 'Zoe', 'None', 'Stewie', 'Calvin', 'Lilah', 'Spanky', 'None', 'Jameson', 'Beau', 'Jax', 'Piper', 'Bo', 'Atticus', 'Lucy', 'Finn', 'None', 'George', 'Blu', 'Winston', 'Dietrich', 'not', 'Divine', 'None', 'Tripp', 'his', 'one', 'Cora', 'None', 'Duke', 'None', 'None', 'None', 'a', 'Huxley', 'a', 'Bookstore', 'None', 'None', 'None', 'Atticus', 'Clark', 'None', 'None', 'a', 'None', 'None', 'Abby', 'Shiloh', 'an', 'Gustav', 'Arlen', 'Gus', 'Percy', 'Lenox', 'very', 'Sugar', 'Oliver', 'Abby', 'Indie', 'Harvey', 'Blanket', 'None', 'Geno', 'None', 'Stark', 'Harold', 'Bentley', 'Beya', 'Kilo', 'a', 'Kayla', 'Maxaroni', 'None', 'Bell', 'Phil', 'Doug', 'Edmund', 'None', 'Aqua', 'Tucker', 'Theodore', 'just', 'Leo', 'None', 'Chip', 'Baloo', 'None', 'None', 'Chase', 'getting', 'Nollie', 'Rorie', 'Simba', 'Benji', 'None', 'Kyle', 'None', 'Charles', 'None', 'Bayley', 'None', 'None', 'Axel', 'Storkson', 'Remy', 'Bella', 'None', 'None', 'Lily', 'None', 'Chadrick', 'Rory', 'very', 'None', 'Maxaroni', 'None', 'Dakota', 'None', 'Kellogg', 'Buckley', 'Jax', 'None', 'Livvie', 'Terry', 'Moose', 'None', 'Hermione', 'None', 'Ralpher', 'Aldrick', 'None', 'Kyle', 'Larry', 'Solomon', 'this', 'unacceptable', 'Rooney', 'Crystal', 'Ziva', 'Charles', 'Ollie', 'None', 'Stefan', 'Pupcasso', 'None', 'Puff', 'None', 'Flurpson', 'Coleman', 'Wallace', 'Enchilada', 'Raymond', 'all', 'Rueben', 'Cilantro', 'None', 'None', 'None', 'None', 'Karll', 'Sprout', 'Blitz', 'Bloop', 'None', 'Colby', 'Lillie', 'Lola', 'Fred', 'None', 'Ashleigh', 'Kreggory', 'Sarge', 'Luther', 'Sugar', 'Reginald', 'Ivar', 'Jangle', 'None', 'Schnitzel', 'Panda', 'Oliver', 'Archie', 'Berkeley', 'None', 'Ralphé', 'Derek', 'Charleson', 'Neptune', 'None', 'Clyde', 'Harnold', 'Sid', 'Lucy', 'Pippa', 'Sadie', 'Otis', 'None', 'Carper', 'None', 'Bowie', 'None', 'Alexanderson', 'Suki', 'Barclay', 'None', 'a', 'Ebby', 'Flávio', 'Smokey', 'Link', 'Jennifur', 'Bluebert', 'Stephanus', 'None', 'Bubbles', 'a', 'Toby', 'Zeus', 'Bertson', 'Oscar', 'Nico', 'Michelangelope', 'Siba', 'Calbert', 'Curtis', 'Benedict', 'None', 'Travis', 'Thumas', 'None', 'None', 'Kanu', 'None', 'Piper', 'None', 'Lance', 'Opie', 'Stubert', 'None', 'Sunny', 'Kane', 'None', 'Steven', 'Olive', 'Chester', 'None', 'Winston', 'Roosevelt', 'None', 'None', 'Gary', 'None', 'None', 'Chuckles', 'Milo', 'Staniel', 'Sora', 'None', 'Beemo', 'Gunner', 'infuriating', 'None', 'Lacy', 'Tater', 'None', 'Watson', 'None', 'None', 'Olaf', 'Cecil', 'Vince', 'Karma', 'Billy', 'Walker', 'Penny', 'None', 'Rodney', 'Klevin', 'None', 'Malikai', 'Mister', 'Coco', 'Smokey', 'Bear', 'Bobble', 'Oliver', 'River', 'Jebberson', 'None', 'Cooper', 'Remington', 'None', 'Farfle', 'Rufus', 'Sadie', 'None', 'Jiminus', 'Harper', 'Keurig', 'None', 'Clarkus', 'None', 'Finnegus', 'Cassie', 'Cupcake', 'Kathmandu', 'Tucker', 'Ellie', 'Elliot', 'Katie', 'Shadow', 'None', 'Oliver', 'None', 'Koda', 'None', 'None', 'Kara', 'Dexter', 'Adele', 'Lucy', 'Max', 'None', 'None', 'Zara', 'Cooper', 'Ambrose', 'Jimothy', 'Bode', 'Terrenth', 'Reese', 'None', 'a', 'None', 'Chesterson', 'None', 'None', 'Lucia', 'Bisquick', 'Ralphson', 'Stanley', 'a', 'None', 'None', 'Bella', 'Scooter', 'None', 'None', 'Charlie', 'Socks', 'None', 'a', 'an', 'Chip', 'Lucy', 'Rambo', 'Sansa', 'a', 'None', 'None', 'None', 'Fiji', 'Rilo', 'Bilbo', 'Coopson', 'Yoda', 'Millie', 'None', 'Chet', 'a', 'Crouton', 'Daniel', 'very', 'Vincent', 'Kaia', 'Murphy', 'Dotsy', 'None', 'None', 'Eazy', 'Coops', 'Thumas', 'Cooper', 'Nala', 'None', 'Fillup', 'Dave', 'Archie', 'None', 'None', 'Miley', 'Calbert', 'None', 'Charl', 'Reagan', 'None', 'None', 'Oliver', 'CeCe', 'None', 'Cuddles', 'Rusty', 'None', 'Claude', 'Jessiga', 'Maximus', 'Franklin', 'Beau', 'Lily', 'None', 'Doug', 'Cassie', 'Carter', 'None', 'None', 'Ole', 'Blipson', 'None', 'Bentley', 'getting', 'Charlie', 'Oakley', 'Rosie', 'None', 'None', 'Misty', 'Reptar', 'Trevith', 'None', 'Berb', 'None', 'Wyatt', 'None', 'Calvin', 'None', 'Bob', 'Colin', 'just', 'Lorenzo', 'None', 'Brian', 'Archie', 'Phil', 'None', 'Oliviér', 'Grady', 'None', 'Lola', 'Chester', 'Kobe', 'None', 'Freddery', 'None', 'None', 'Phil', 'Lincoln', 'Sadie', 'None', 'Bodie', 'Dunkin', 'None', 'Milo', 'None', 'Wally', 'None', 'Tupawc', 'None', 'None', 'Chester', 'Amber', 'Cody', 'Herschel', 'a', 'Edgar', 'None', 'Kingsley', 'Brockly', 'None', 'Richie', 'None', 'Leo', 'Bailey', 'None', 'Molly', 'None', 'None', 'None', 'None', 'Buddy', 'Peaches', 'Vinscent', 'Cedrick', 'Hazel', 'Lolo', 'Eriq', 'Phred', 'the', 'Maxwell', 'Geoff', 'None', 'None', 'Covach', 'None', 'Gizmo', 'Durg', 'Fynn', 'Luca', 'Ricky', 'Lucy', 'None', 'None', 'Carl', 'None', 'Chipson', 'Herald', 'Lucky', 'None', 'Trip', 'None', 'Clarence', 'None', 'Hamrick', 'Brad', 'None', 'Pubert', 'Frönq', 'None', 'Louis', 'Derby', 'Lizzie', 'None', 'Kilo', 'Louis', 'None', 'Trooper', 'Blakely', 'Opal', 'Marq', 'None', 'Curtis', 'Kramer', 'Tyrone', 'None', 'Gordon', 'Samson', 'Baxter', 'None', 'None', 'Jackson', 'None', 'None', 'Mona', 'Olivia', 'Horace', 'Crimson', 'Birf', 'None', 'Flávio', 'None', 'None', 'Hammond', 'Lorelei', 'the', 'Olive', 'Marty', 'Brooks', 'Otis', 'None', 'None', 'None', 'Rocky', 'None', 'Petrick', 'Hubertson', 'Alfie', 'Gerbald', 'Jerry', 'Oreo', 'Bruiser', 'None', 'Perry', 'None', 'Theodore', 'None', 'Bobby', 'None', 'Pippa', 'Jeph', 'Obi', 'None', 'None', 'None', 'Tino', 'None', 'Kulet', 'None', 'Lupe', 'Sadie', 'Tiger', 'Jiminy', 'None', 'None', 'Buddy', 'Sebastian', 'Griffin', 'Banjo', 'None', 'None', 'Jack', 'None', 'Brandy', 'Larry', 'None', 'None', 'Lulu', 'Darrel', 'None', 'Taco', 'None', 'Joey', 'None', 'None', 'Patrick', 'Kreg', 'Brody', 'Todo', 'Jax', 'Samson', 'Tess', 'None', 'Ulysses', 'None', 'Jimothy', 'Charlie', 'Bo', 'None', 'Toffee', 'None', 'Apollo', 'Carly', 'Asher', 'Glacier', 'Chuck', 'actually', 'Sarge', 'Panda', 'Champ', 'None', 'Aspen', 'None', 'Ozzie', 'Alice', 'Sadie', 'Griswold', 'Cheesy', 'Ellie', 'None', 'Moofasa', 'Brody', 'Penny', 'Percy', 'None', 'Hector', 'None', 'CeCe', 'Toby', 'None', 'None', 'Goliath', 'Kawhi', 'Reggie', 'Ozzy', 'None', 'by', 'Emmie', 'Sammy', 'Penelope', 'None', 'Bruce', 'Willie', 'None', 'Rinna', 'None', 'Hunter', 'Mike', 'a', 'None', 'William', 'Dwight', 'Evy', 'Hurley', 'Rubio', 'None', 'Louis', 'officially', 'Chompsky', 'None', 'None', 'Lola', 'None', 'Linda', 'Tug', 'Mia', 'Wilson', 'Dash', 'Tango', 'None', 'Grizz', 'None', 'Crystal', 'Jerome', 'None', 'None', 'Bella', 'Crumpet', 'None', 'Rosie', 'None', 'Jessifer', 'Reese', 'None', 'None', 'None', 'Ralph', 'Sadie', 'None', 'None', 'None', 'a', 'Sandy', 'None', 'None', 'None', 'Axel', 'None', 'Humphrey', 'Derek', 'Tassy', 'Juckson', 'the', 'Chuq', 'None', 'Cooper', 'None', 'Tyrus', 'Karl', 'None', 'None', 'None', 'None', 'Ash', 'None', 'None', 'Penny', 'None', 'None', 'the', 'None', 'Godzilla', 'Bubbles', 'Vinnie', 'None', 'None', 'Griffin', 'None', 'None', 'Duke', 'None', 'Winston', 'Kenneth', 'Herm', 'None', 'Bert', 'Striker', 'None', 'None', 'None', 'Donny', 'None', 'None', 'None', 'None', 'Pepper', 'None', 'None', 'Bernie', 'Buddah', 'None', 'Lenny', 'None', 'a', 'a', 'Ellie', 'Sammy', 'None', 'None', 'Reggie', 'None', 'None', 'None', 'None', 'Daisy', 'None', 'None', 'None', 'Arnold', 'None', 'None', 'None', 'Coops', 'None', 'Steven', 'Zuzu', 'Oliver', 'a', 'a', 'Moe', 'Mollie', 'Laela', 'None', 'None', 'Tedders', 'None', 'None', 'Maggie', 'None', 'Superpup', 'None', 'None', 'None', 'None', 'Sophie', 'None', 'Rufio', 'Patrick', 'Jeb', 'Rodman', 'None', 'None', 'None', 'None', 'Louis', 'None', 'Bailey', 'Ava', 'Jonah', 'Lenny', 'Gary', 'Chesney', 'Lennon', 'Kenny', 'None', 'Bob', 'Henry', 'Gus', 'Bobbay', 'a', 'Mitch', 'Earl', 'Stanley', 'Lucy', 'None', 'None', 'Kaiya', 'Daisy', 'None', 'Acro', 'Aiden', 'None', 'one', 'Obie', 'None', 'None', 'a', 'None', 'None', 'Riley', 'Raymond', 'Dot', 'None', 'Pickles', 'None', 'Larry', 'George', 'Shnuggles', 'Kendall', 'Albert', 'a', 'Jeffri', 'Sandy', 'None', 'None', 'None', 'Steve', 'Koda', 'None', 'Bella', 'Gerald', 'None', 'Django', 'Frankie', 'None', 'Eve', 'Mac', 'None', 'Dexter', 'Fletcher', 'Kenzie', 'Pumpkin', 'Schnozz', 'None', 'None', 'Chuckles', 'Chet', 'Gustaf', 'Terry', 'Jimison', 'Cheryl', 'None', 'Oscar', 'Ed', 'Jerry', 'Leonidas', 'None', 'Norman', 'Caryl', 'a', 'Scott', 'Taz', 'None', 'Darby', 'None', 'Jackie', 'light', 'Jazz', 'Buddy', 'Franq', 'Pippin', 'None', 'Kreg', 'None', 'Rolf', 'None', 'Snickers', 'Ridley', 'None', 'Cal', 'Opal', 'Bradley', 'Bubba', 'None', 'just', 'Tuco', 'Patch', 'Gizmo', 'Lola', 'Mojo', 'Batdog', 'Brad', 'Mia', 'Dylan', 'None', 'space', 'None', 'Mark', 'None', 'a', 'Oscar', 'None', 'the', 'Marley', 'None', 'JD', 'Baxter', 'Reginald', 'None', 'Jax', 'Alejandro', 'Scruffers', 'Hammond', 'Charlie', 'Pip', 'Julius', 'Malcolm', 'Penelope', 'None', 'Tanner', 'None', 'Lou', 'Lola', 'Sparky', 'None', 'Herm', 'None', 'Anthony', 'Holly', 'None', 'a', 'None', 'None', 'Clarence', 'None', 'Phred', 'Toby', 'None', 'None', 'Colby', 'None', 'Jett', 'Amy', 'None', 'Remington', 'None', 'Sage', 'Maggie', 'Andy', 'Mason', 'None', 'Trigger', 'Antony', 'None', 'Creg', 'None', 'None', 'Traviss', 'None', 'Vincent', 'Gin', 'Jerry', 'Jeffrie', 'None', 'Danny', 'Ester', 'Pluto', 'Bloo', 'Phineas', 'None', 'Edd', 'None', 'None', 'None', 'Paull', 'Koda', 'None', 'Hank', 'Sam', 'Willy', 'a', 'Herb', 'Damon', 'None', 'Scooter', 'Peanut', 'Nigel', 'Larry', 'Daisy', 'a', 'Butters', 'None', 'a', 'Sandra', 'Wally', 'None', 'Fabio', 'Winston', 'Randall', 'Liam', 'Tommy', 'Ben', 'None', 'None', 'Raphael', 'Zoey', 'None', 'Julio', 'Andru', 'None', 'a', 'Chester', 'Clarence', 'Kloey', 'Louie', 'Shawwn', 'a', 'Penny', 'None', 'Skye', 'None', 'Linda', 'Keith', 'Kollin', 'a', 'Ronduh', 'Billl', 'Oliviér', 'Chip', 'None', 'Saydee', 'Dug', 'Tessa', 'Sully', 'Kirk', 'None', 'Ralf', 'Clarq', 'Jaspers', 'Samsom', 'None', 'None', 'Tucker', 'Terrance', 'None', 'Harrison', 'Bernie', 'None', 'Ruby', 'None', 'Chaz', 'Jeremy', 'Jaycob', 'a', 'Herald', 'Lambeau', 'Ruffles', 'Amélie', 'Bobb', 'Banditt', 'a', 'Kevon', 'Winifred', 'None', 'None', 'Hanz', 'an', 'Churlie', 'Zeek', 'Timofy', 'Maks', 'Jomathan', 'Kallie', 'a', 'Marvin', 'None', 'None', 'Spark', 'Gòrdón', 'a', 'Jo', 'None', 'DayZ', 'a', 'None', 'None', 'Rusty', 'Sophie', 'None', 'Jareld', 'Bisquick', 'Torque', 'None', 'None', 'Ron', 'Skittles', 'a', 'None', 'None', 'Alfie', 'None', 'Jiminy', 'Otis', 'None', 'Cleopatricia', 'Erik', 'Stu', 'Tedrick', 'None', 'Shaggy', 'a', 'None', 'Filup', 'None', 'None', 'None', 'a', 'Calvin', 'Olive', 'None', 'None', 'None', 'None', 'George', 'Kial', 'a', 'Frank', 'Naphaniel', 'None', 'Dook', 'None', 'Hall', 'Philippe', 'None', 'a', 'Reese', 'Cupcake', 'None', 'None', 'None', 'Biden', 'Fwed', 'None', 'Genevieve', 'Joshwa', 'None', 'None', 'Timison', 'a', 'None', 'Clarence', 'Kenneth', 'Churlie', 'Bradlay', 'Pipsy', 'None', 'Gabe', 'Clybe', 'Dave', 'None', 'Keet', 'None', 'Klevin', 'Carll', 'a', 'None', 'None', 'None', 'Jeph', 'Jockson', 'None', 'a', 'Josep', 'Lugan', 'a', 'Christoper', 'None', 'Jimothy', 'Kreggory', 'Scout', 'None', 'None', 'None', 'None', 'None', 'Walter', 'quite', 'a', 'None', 'None', 'None', 'None', 'None', 'an', 'a', 'an', 'None', 'None', 'None', 'None', 'None', 'None', 'None', 'None', 'None', 'the', 'the', 'a', 'a', 'an', 'a', 'None', 'a', 'a', 'a', 'None']\n"
     ]
    }
   ],
   "source": [
    "print(name_list)"
   ]
  },
  {
   "cell_type": "code",
   "execution_count": 624,
   "metadata": {},
   "outputs": [],
   "source": [
    "# We can see that real names start with capital exept 'None'\n",
    "# Replace NONE  with NAN\n",
    "df_clean.name.replace('None', '', inplace = True)"
   ]
  },
  {
   "cell_type": "code",
   "execution_count": 625,
   "metadata": {},
   "outputs": [],
   "source": [
    "# creat a list for fake names\n",
    "import re\n",
    "fake_name = []\n",
    "for name in name_list:\n",
    "    fake = re.match('([a-z]+)',name)\n",
    "    if fake:\n",
    "        fake_name.append(fake.groups())"
   ]
  },
  {
   "cell_type": "code",
   "execution_count": 626,
   "metadata": {},
   "outputs": [
    {
     "data": {
      "text/plain": [
       "[('such',),\n",
       " ('a',),\n",
       " ('quite',),\n",
       " ('quite',),\n",
       " ('one',),\n",
       " ('incredibly',),\n",
       " ('a',),\n",
       " ('an',),\n",
       " ('a',),\n",
       " ('very',),\n",
       " ('just',),\n",
       " ('my',),\n",
       " ('one',),\n",
       " ('not',),\n",
       " ('his',),\n",
       " ('one',),\n",
       " ('a',),\n",
       " ('a',),\n",
       " ('a',),\n",
       " ('an',),\n",
       " ('very',),\n",
       " ('a',),\n",
       " ('just',),\n",
       " ('getting',),\n",
       " ('very',),\n",
       " ('this',),\n",
       " ('unacceptable',),\n",
       " ('all',),\n",
       " ('a',),\n",
       " ('a',),\n",
       " ('infuriating',),\n",
       " ('a',),\n",
       " ('a',),\n",
       " ('a',),\n",
       " ('an',),\n",
       " ('a',),\n",
       " ('a',),\n",
       " ('very',),\n",
       " ('getting',),\n",
       " ('just',),\n",
       " ('a',),\n",
       " ('the',),\n",
       " ('the',),\n",
       " ('actually',),\n",
       " ('by',),\n",
       " ('a',),\n",
       " ('officially',),\n",
       " ('a',),\n",
       " ('the',),\n",
       " ('the',),\n",
       " ('a',),\n",
       " ('a',),\n",
       " ('a',),\n",
       " ('a',),\n",
       " ('a',),\n",
       " ('one',),\n",
       " ('a',),\n",
       " ('a',),\n",
       " ('a',),\n",
       " ('light',),\n",
       " ('just',),\n",
       " ('space',),\n",
       " ('a',),\n",
       " ('the',),\n",
       " ('a',),\n",
       " ('a',),\n",
       " ('a',),\n",
       " ('a',),\n",
       " ('a',),\n",
       " ('a',),\n",
       " ('a',),\n",
       " ('a',),\n",
       " ('a',),\n",
       " ('an',),\n",
       " ('a',),\n",
       " ('a',),\n",
       " ('a',),\n",
       " ('a',),\n",
       " ('a',),\n",
       " ('a',),\n",
       " ('a',),\n",
       " ('a',),\n",
       " ('a',),\n",
       " ('a',),\n",
       " ('a',),\n",
       " ('a',),\n",
       " ('quite',),\n",
       " ('a',),\n",
       " ('an',),\n",
       " ('a',),\n",
       " ('an',),\n",
       " ('the',),\n",
       " ('the',),\n",
       " ('a',),\n",
       " ('a',),\n",
       " ('an',),\n",
       " ('a',),\n",
       " ('a',),\n",
       " ('a',),\n",
       " ('a',)]"
      ]
     },
     "execution_count": 626,
     "metadata": {},
     "output_type": "execute_result"
    }
   ],
   "source": [
    "list(fake_name) "
   ]
  },
  {
   "cell_type": "code",
   "execution_count": 627,
   "metadata": {},
   "outputs": [],
   "source": [
    "fake_name = ['a','an','the','by','getting','officially','very','infuriating','unacceptable','all', 'his', 'not','my','incredibly', 'such']\n",
    "# 'quite','light, space','just', 'one' --> theas can be actually names so i will keep them"
   ]
  },
  {
   "cell_type": "code",
   "execution_count": 628,
   "metadata": {},
   "outputs": [],
   "source": [
    "for name in fake_name:\n",
    "    df_clean.loc[df_clean.name == name, 'name'] = None"
   ]
  },
  {
   "cell_type": "markdown",
   "metadata": {},
   "source": [
    "**Test**"
   ]
  },
  {
   "cell_type": "code",
   "execution_count": 629,
   "metadata": {},
   "outputs": [
    {
     "data": {
      "text/plain": [
       "           577\n",
       "Charlie     11\n",
       "Cooper      10\n",
       "Tucker      10\n",
       "Lucy        10\n",
       "          ... \n",
       "Gordon       1\n",
       "Tug          1\n",
       "Gilbert      1\n",
       "Chaz         1\n",
       "DayZ         1\n",
       "Name: name, Length: 921, dtype: int64"
      ]
     },
     "execution_count": 629,
     "metadata": {},
     "output_type": "execute_result"
    }
   ],
   "source": [
    "df_clean.name.value_counts()"
   ]
  },
  {
   "cell_type": "code",
   "execution_count": 630,
   "metadata": {},
   "outputs": [],
   "source": [
    "#as any 'a' in df_clean.name"
   ]
  },
  {
   "cell_type": "markdown",
   "metadata": {},
   "source": [
    "**Define**\n",
    "* **incorrect data type** in `timestamp` and `retweeted_status_timestamp`(should be datetime) "
   ]
  },
  {
   "cell_type": "markdown",
   "metadata": {},
   "source": [
    "**Code**"
   ]
  },
  {
   "cell_type": "code",
   "execution_count": 631,
   "metadata": {},
   "outputs": [],
   "source": [
    "df_clean.timestamp = pd.to_datetime(df_clean.timestamp)\n",
    "df_clean.retweeted_status_timestamp = pd.to_datetime(df_clean.retweeted_status_timestamp)"
   ]
  },
  {
   "cell_type": "markdown",
   "metadata": {},
   "source": [
    "**Test**"
   ]
  },
  {
   "cell_type": "code",
   "execution_count": 632,
   "metadata": {},
   "outputs": [
    {
     "name": "stdout",
     "output_type": "stream",
     "text": [
      "<class 'pandas.core.frame.DataFrame'>\n",
      "Int64Index: 2073 entries, 0 to 2072\n",
      "Data columns (total 27 columns):\n",
      "tweet_id                      2073 non-null object\n",
      "in_reply_to_status_id         23 non-null float64\n",
      "in_reply_to_user_id           23 non-null float64\n",
      "timestamp                     2073 non-null datetime64[ns, UTC]\n",
      "source                        2073 non-null object\n",
      "text                          2073 non-null object\n",
      "retweeted_status_id           79 non-null float64\n",
      "retweeted_status_user_id      79 non-null float64\n",
      "retweeted_status_timestamp    79 non-null datetime64[ns, UTC]\n",
      "expanded_urls                 2073 non-null object\n",
      "rating_numerator              2073 non-null int64\n",
      "rating_denominator            2073 non-null int64\n",
      "name                          1988 non-null object\n",
      "retweets_count                2073 non-null object\n",
      "favorites_count               2073 non-null object\n",
      "jpg_url                       2073 non-null object\n",
      "img_num                       2073 non-null int64\n",
      "p1                            2073 non-null object\n",
      "p1_conf                       2073 non-null float64\n",
      "p1_dog                        2073 non-null bool\n",
      "p2                            2073 non-null object\n",
      "p2_conf                       2073 non-null float64\n",
      "p2_dog                        2073 non-null bool\n",
      "p3                            2073 non-null object\n",
      "p3_conf                       2073 non-null float64\n",
      "p3_dog                        2073 non-null bool\n",
      "stages                        2073 non-null object\n",
      "dtypes: bool(3), datetime64[ns, UTC](2), float64(7), int64(3), object(12)\n",
      "memory usage: 411.0+ KB\n"
     ]
    }
   ],
   "source": [
    "df_clean.info()"
   ]
  },
  {
   "cell_type": "markdown",
   "metadata": {},
   "source": [
    "**Define**\n",
    "* **droping** some unnedded colunms (`in_reply_to_status_id`, `in_reply_to_user_id`, `retweeted_status_id`,\n",
    "    `retweeted_status_user_id`)"
   ]
  },
  {
   "cell_type": "markdown",
   "metadata": {},
   "source": [
    "**Code**"
   ]
  },
  {
   "cell_type": "code",
   "execution_count": 633,
   "metadata": {},
   "outputs": [],
   "source": [
    "df_clean.drop(['in_reply_to_status_id','in_reply_to_user_id','retweeted_status_id','retweeted_status_user_id'],axis = 1, inplace = True)"
   ]
  },
  {
   "cell_type": "markdown",
   "metadata": {},
   "source": [
    "**Test**"
   ]
  },
  {
   "cell_type": "code",
   "execution_count": 634,
   "metadata": {},
   "outputs": [
    {
     "name": "stdout",
     "output_type": "stream",
     "text": [
      "<class 'pandas.core.frame.DataFrame'>\n",
      "Int64Index: 2073 entries, 0 to 2072\n",
      "Data columns (total 23 columns):\n",
      "tweet_id                      2073 non-null object\n",
      "timestamp                     2073 non-null datetime64[ns, UTC]\n",
      "source                        2073 non-null object\n",
      "text                          2073 non-null object\n",
      "retweeted_status_timestamp    79 non-null datetime64[ns, UTC]\n",
      "expanded_urls                 2073 non-null object\n",
      "rating_numerator              2073 non-null int64\n",
      "rating_denominator            2073 non-null int64\n",
      "name                          1988 non-null object\n",
      "retweets_count                2073 non-null object\n",
      "favorites_count               2073 non-null object\n",
      "jpg_url                       2073 non-null object\n",
      "img_num                       2073 non-null int64\n",
      "p1                            2073 non-null object\n",
      "p1_conf                       2073 non-null float64\n",
      "p1_dog                        2073 non-null bool\n",
      "p2                            2073 non-null object\n",
      "p2_conf                       2073 non-null float64\n",
      "p2_dog                        2073 non-null bool\n",
      "p3                            2073 non-null object\n",
      "p3_conf                       2073 non-null float64\n",
      "p3_dog                        2073 non-null bool\n",
      "stages                        2073 non-null object\n",
      "dtypes: bool(3), datetime64[ns, UTC](2), float64(3), int64(3), object(12)\n",
      "memory usage: 346.2+ KB\n"
     ]
    }
   ],
   "source": [
    "df_clean.info()"
   ]
  },
  {
   "cell_type": "markdown",
   "metadata": {},
   "source": [
    "**Define**\n",
    "* **unnecessary colunms, six colunms one purpose** the dog classification "
   ]
  },
  {
   "cell_type": "markdown",
   "metadata": {},
   "source": [
    "**Code**"
   ]
  },
  {
   "cell_type": "code",
   "execution_count": 635,
   "metadata": {},
   "outputs": [],
   "source": [
    "df_clean.drop(['p1_conf', 'p2_conf', 'p3_conf'],axis = 1, inplace = True)"
   ]
  },
  {
   "cell_type": "markdown",
   "metadata": {},
   "source": [
    "**Test**"
   ]
  },
  {
   "cell_type": "code",
   "execution_count": 636,
   "metadata": {},
   "outputs": [
    {
     "data": {
      "text/html": [
       "<div>\n",
       "<style scoped>\n",
       "    .dataframe tbody tr th:only-of-type {\n",
       "        vertical-align: middle;\n",
       "    }\n",
       "\n",
       "    .dataframe tbody tr th {\n",
       "        vertical-align: top;\n",
       "    }\n",
       "\n",
       "    .dataframe thead th {\n",
       "        text-align: right;\n",
       "    }\n",
       "</style>\n",
       "<table border=\"1\" class=\"dataframe\">\n",
       "  <thead>\n",
       "    <tr style=\"text-align: right;\">\n",
       "      <th></th>\n",
       "      <th>tweet_id</th>\n",
       "      <th>timestamp</th>\n",
       "      <th>source</th>\n",
       "      <th>text</th>\n",
       "      <th>retweeted_status_timestamp</th>\n",
       "      <th>expanded_urls</th>\n",
       "      <th>rating_numerator</th>\n",
       "      <th>rating_denominator</th>\n",
       "      <th>name</th>\n",
       "      <th>retweets_count</th>\n",
       "      <th>favorites_count</th>\n",
       "      <th>jpg_url</th>\n",
       "      <th>img_num</th>\n",
       "      <th>p1</th>\n",
       "      <th>p1_dog</th>\n",
       "      <th>p2</th>\n",
       "      <th>p2_dog</th>\n",
       "      <th>p3</th>\n",
       "      <th>p3_dog</th>\n",
       "      <th>stages</th>\n",
       "    </tr>\n",
       "  </thead>\n",
       "  <tbody>\n",
       "    <tr>\n",
       "      <td>0</td>\n",
       "      <td>892420643555336193</td>\n",
       "      <td>2017-08-01 16:23:56+00:00</td>\n",
       "      <td>&lt;a href=\"http://twitter.com/download/iphone\" r...</td>\n",
       "      <td>This is Phineas. He's a mystical boy. Only eve...</td>\n",
       "      <td>NaT</td>\n",
       "      <td>https://twitter.com/dog_rates/status/892420643...</td>\n",
       "      <td>13</td>\n",
       "      <td>10</td>\n",
       "      <td>Phineas</td>\n",
       "      <td>8853</td>\n",
       "      <td>39467</td>\n",
       "      <td>https://pbs.twimg.com/media/DGKD1-bXoAAIAUK.jpg</td>\n",
       "      <td>1</td>\n",
       "      <td>orange</td>\n",
       "      <td>False</td>\n",
       "      <td>bagel</td>\n",
       "      <td>False</td>\n",
       "      <td>banana</td>\n",
       "      <td>False</td>\n",
       "      <td></td>\n",
       "    </tr>\n",
       "    <tr>\n",
       "      <td>1</td>\n",
       "      <td>892177421306343426</td>\n",
       "      <td>2017-08-01 00:17:27+00:00</td>\n",
       "      <td>&lt;a href=\"http://twitter.com/download/iphone\" r...</td>\n",
       "      <td>This is Tilly. She's just checking pup on you....</td>\n",
       "      <td>NaT</td>\n",
       "      <td>https://twitter.com/dog_rates/status/892177421...</td>\n",
       "      <td>13</td>\n",
       "      <td>10</td>\n",
       "      <td>Tilly</td>\n",
       "      <td>6514</td>\n",
       "      <td>33819</td>\n",
       "      <td>https://pbs.twimg.com/media/DGGmoV4XsAAUL6n.jpg</td>\n",
       "      <td>1</td>\n",
       "      <td>Chihuahua</td>\n",
       "      <td>True</td>\n",
       "      <td>Pekinese</td>\n",
       "      <td>True</td>\n",
       "      <td>papillon</td>\n",
       "      <td>True</td>\n",
       "      <td></td>\n",
       "    </tr>\n",
       "    <tr>\n",
       "      <td>2</td>\n",
       "      <td>891815181378084864</td>\n",
       "      <td>2017-07-31 00:18:03+00:00</td>\n",
       "      <td>&lt;a href=\"http://twitter.com/download/iphone\" r...</td>\n",
       "      <td>This is Archie. He is a rare Norwegian Pouncin...</td>\n",
       "      <td>NaT</td>\n",
       "      <td>https://twitter.com/dog_rates/status/891815181...</td>\n",
       "      <td>12</td>\n",
       "      <td>10</td>\n",
       "      <td>Archie</td>\n",
       "      <td>4328</td>\n",
       "      <td>25461</td>\n",
       "      <td>https://pbs.twimg.com/media/DGBdLU1WsAANxJ9.jpg</td>\n",
       "      <td>1</td>\n",
       "      <td>Chihuahua</td>\n",
       "      <td>True</td>\n",
       "      <td>malamute</td>\n",
       "      <td>True</td>\n",
       "      <td>kelpie</td>\n",
       "      <td>True</td>\n",
       "      <td></td>\n",
       "    </tr>\n",
       "    <tr>\n",
       "      <td>3</td>\n",
       "      <td>891689557279858688</td>\n",
       "      <td>2017-07-30 15:58:51+00:00</td>\n",
       "      <td>&lt;a href=\"http://twitter.com/download/iphone\" r...</td>\n",
       "      <td>This is Darla. She commenced a snooze mid meal...</td>\n",
       "      <td>NaT</td>\n",
       "      <td>https://twitter.com/dog_rates/status/891689557...</td>\n",
       "      <td>13</td>\n",
       "      <td>10</td>\n",
       "      <td>Darla</td>\n",
       "      <td>8964</td>\n",
       "      <td>42908</td>\n",
       "      <td>https://pbs.twimg.com/media/DF_q7IAWsAEuuN8.jpg</td>\n",
       "      <td>1</td>\n",
       "      <td>paper_towel</td>\n",
       "      <td>False</td>\n",
       "      <td>Labrador_retriever</td>\n",
       "      <td>True</td>\n",
       "      <td>spatula</td>\n",
       "      <td>False</td>\n",
       "      <td></td>\n",
       "    </tr>\n",
       "    <tr>\n",
       "      <td>4</td>\n",
       "      <td>891327558926688256</td>\n",
       "      <td>2017-07-29 16:00:24+00:00</td>\n",
       "      <td>&lt;a href=\"http://twitter.com/download/iphone\" r...</td>\n",
       "      <td>This is Franklin. He would like you to stop ca...</td>\n",
       "      <td>NaT</td>\n",
       "      <td>https://twitter.com/dog_rates/status/891327558...</td>\n",
       "      <td>12</td>\n",
       "      <td>10</td>\n",
       "      <td>Franklin</td>\n",
       "      <td>9774</td>\n",
       "      <td>41048</td>\n",
       "      <td>https://pbs.twimg.com/media/DF6hr6BUMAAzZgT.jpg</td>\n",
       "      <td>2</td>\n",
       "      <td>basset</td>\n",
       "      <td>True</td>\n",
       "      <td>English_springer</td>\n",
       "      <td>True</td>\n",
       "      <td>German_short-haired_pointer</td>\n",
       "      <td>True</td>\n",
       "      <td></td>\n",
       "    </tr>\n",
       "  </tbody>\n",
       "</table>\n",
       "</div>"
      ],
      "text/plain": [
       "             tweet_id                 timestamp  \\\n",
       "0  892420643555336193 2017-08-01 16:23:56+00:00   \n",
       "1  892177421306343426 2017-08-01 00:17:27+00:00   \n",
       "2  891815181378084864 2017-07-31 00:18:03+00:00   \n",
       "3  891689557279858688 2017-07-30 15:58:51+00:00   \n",
       "4  891327558926688256 2017-07-29 16:00:24+00:00   \n",
       "\n",
       "                                              source  \\\n",
       "0  <a href=\"http://twitter.com/download/iphone\" r...   \n",
       "1  <a href=\"http://twitter.com/download/iphone\" r...   \n",
       "2  <a href=\"http://twitter.com/download/iphone\" r...   \n",
       "3  <a href=\"http://twitter.com/download/iphone\" r...   \n",
       "4  <a href=\"http://twitter.com/download/iphone\" r...   \n",
       "\n",
       "                                                text  \\\n",
       "0  This is Phineas. He's a mystical boy. Only eve...   \n",
       "1  This is Tilly. She's just checking pup on you....   \n",
       "2  This is Archie. He is a rare Norwegian Pouncin...   \n",
       "3  This is Darla. She commenced a snooze mid meal...   \n",
       "4  This is Franklin. He would like you to stop ca...   \n",
       "\n",
       "  retweeted_status_timestamp  \\\n",
       "0                        NaT   \n",
       "1                        NaT   \n",
       "2                        NaT   \n",
       "3                        NaT   \n",
       "4                        NaT   \n",
       "\n",
       "                                       expanded_urls  rating_numerator  \\\n",
       "0  https://twitter.com/dog_rates/status/892420643...                13   \n",
       "1  https://twitter.com/dog_rates/status/892177421...                13   \n",
       "2  https://twitter.com/dog_rates/status/891815181...                12   \n",
       "3  https://twitter.com/dog_rates/status/891689557...                13   \n",
       "4  https://twitter.com/dog_rates/status/891327558...                12   \n",
       "\n",
       "   rating_denominator      name retweets_count favorites_count  \\\n",
       "0                  10   Phineas           8853           39467   \n",
       "1                  10     Tilly           6514           33819   \n",
       "2                  10    Archie           4328           25461   \n",
       "3                  10     Darla           8964           42908   \n",
       "4                  10  Franklin           9774           41048   \n",
       "\n",
       "                                           jpg_url  img_num           p1  \\\n",
       "0  https://pbs.twimg.com/media/DGKD1-bXoAAIAUK.jpg        1       orange   \n",
       "1  https://pbs.twimg.com/media/DGGmoV4XsAAUL6n.jpg        1    Chihuahua   \n",
       "2  https://pbs.twimg.com/media/DGBdLU1WsAANxJ9.jpg        1    Chihuahua   \n",
       "3  https://pbs.twimg.com/media/DF_q7IAWsAEuuN8.jpg        1  paper_towel   \n",
       "4  https://pbs.twimg.com/media/DF6hr6BUMAAzZgT.jpg        2       basset   \n",
       "\n",
       "   p1_dog                  p2  p2_dog                           p3  p3_dog  \\\n",
       "0   False               bagel   False                       banana   False   \n",
       "1    True            Pekinese    True                     papillon    True   \n",
       "2    True            malamute    True                       kelpie    True   \n",
       "3   False  Labrador_retriever    True                      spatula   False   \n",
       "4    True    English_springer    True  German_short-haired_pointer    True   \n",
       "\n",
       "  stages  \n",
       "0         \n",
       "1         \n",
       "2         \n",
       "3         \n",
       "4         "
      ]
     },
     "execution_count": 636,
     "metadata": {},
     "output_type": "execute_result"
    }
   ],
   "source": [
    "df_clean.head()"
   ]
  },
  {
   "cell_type": "markdown",
   "metadata": {},
   "source": [
    "**Define**\n",
    "* **incorrect data type** in `tweet_id` (should be string)"
   ]
  },
  {
   "cell_type": "markdown",
   "metadata": {},
   "source": [
    "**Code**"
   ]
  },
  {
   "cell_type": "code",
   "execution_count": 637,
   "metadata": {},
   "outputs": [],
   "source": [
    "df_clean.tweet_id = df_clean.tweet_id.astype(str)"
   ]
  },
  {
   "cell_type": "markdown",
   "metadata": {},
   "source": [
    "**Test**"
   ]
  },
  {
   "cell_type": "code",
   "execution_count": 638,
   "metadata": {},
   "outputs": [
    {
     "name": "stdout",
     "output_type": "stream",
     "text": [
      "<class 'pandas.core.frame.DataFrame'>\n",
      "Int64Index: 2073 entries, 0 to 2072\n",
      "Data columns (total 20 columns):\n",
      "tweet_id                      2073 non-null object\n",
      "timestamp                     2073 non-null datetime64[ns, UTC]\n",
      "source                        2073 non-null object\n",
      "text                          2073 non-null object\n",
      "retweeted_status_timestamp    79 non-null datetime64[ns, UTC]\n",
      "expanded_urls                 2073 non-null object\n",
      "rating_numerator              2073 non-null int64\n",
      "rating_denominator            2073 non-null int64\n",
      "name                          1988 non-null object\n",
      "retweets_count                2073 non-null object\n",
      "favorites_count               2073 non-null object\n",
      "jpg_url                       2073 non-null object\n",
      "img_num                       2073 non-null int64\n",
      "p1                            2073 non-null object\n",
      "p1_dog                        2073 non-null bool\n",
      "p2                            2073 non-null object\n",
      "p2_dog                        2073 non-null bool\n",
      "p3                            2073 non-null object\n",
      "p3_dog                        2073 non-null bool\n",
      "stages                        2073 non-null object\n",
      "dtypes: bool(3), datetime64[ns, UTC](2), int64(3), object(12)\n",
      "memory usage: 297.6+ KB\n"
     ]
    }
   ],
   "source": [
    "df_clean.info()"
   ]
  },
  {
   "cell_type": "markdown",
   "metadata": {},
   "source": [
    "**Define**\n",
    "* **Missing values** "
   ]
  },
  {
   "cell_type": "markdown",
   "metadata": {},
   "source": [
    "**Code**"
   ]
  },
  {
   "cell_type": "code",
   "execution_count": 639,
   "metadata": {},
   "outputs": [
    {
     "data": {
      "text/plain": [
       "tweet_id                         0\n",
       "timestamp                        0\n",
       "source                           0\n",
       "text                             0\n",
       "retweeted_status_timestamp    1994\n",
       "expanded_urls                    0\n",
       "rating_numerator                 0\n",
       "rating_denominator               0\n",
       "name                            85\n",
       "retweets_count                   0\n",
       "favorites_count                  0\n",
       "jpg_url                          0\n",
       "img_num                          0\n",
       "p1                               0\n",
       "p1_dog                           0\n",
       "p2                               0\n",
       "p2_dog                           0\n",
       "p3                               0\n",
       "p3_dog                           0\n",
       "stages                           0\n",
       "dtype: int64"
      ]
     },
     "execution_count": 639,
     "metadata": {},
     "output_type": "execute_result"
    }
   ],
   "source": [
    "df_clean.isnull().sum()"
   ]
  },
  {
   "cell_type": "code",
   "execution_count": 640,
   "metadata": {},
   "outputs": [
    {
     "data": {
      "text/plain": [
       "(2073, 20)"
      ]
     },
     "execution_count": 640,
     "metadata": {},
     "output_type": "execute_result"
    }
   ],
   "source": [
    "#df_clean.dropna(inplace=True)\n",
    "df_clean.shape"
   ]
  },
  {
   "cell_type": "markdown",
   "metadata": {},
   "source": [
    "Most of the retweeted_status_timestamp are missing values i will just drop this colunm"
   ]
  },
  {
   "cell_type": "code",
   "execution_count": 641,
   "metadata": {},
   "outputs": [],
   "source": [
    "df_clean.drop(['retweeted_status_timestamp'], axis=1, inplace=True)"
   ]
  },
  {
   "cell_type": "markdown",
   "metadata": {},
   "source": [
    "**Test**"
   ]
  },
  {
   "cell_type": "code",
   "execution_count": 642,
   "metadata": {},
   "outputs": [
    {
     "data": {
      "text/plain": [
       "85"
      ]
     },
     "execution_count": 642,
     "metadata": {},
     "output_type": "execute_result"
    }
   ],
   "source": [
    "df_clean.isnull().sum().sum()\n",
    "# Only name have null values now"
   ]
  },
  {
   "cell_type": "markdown",
   "metadata": {},
   "source": [
    "**Define**\n",
    "* **incorrect data type** in `rating_numerator` (should be float) \n",
    "* **incorrect data type** in `rating_denominator` (should be float) "
   ]
  },
  {
   "cell_type": "markdown",
   "metadata": {},
   "source": [
    "**Clean**"
   ]
  },
  {
   "cell_type": "code",
   "execution_count": 643,
   "metadata": {},
   "outputs": [],
   "source": [
    "df_clean.rating_numerator = df_clean.rating_numerator.astype(float)\n",
    "df_clean.rating_denominator= df_clean.rating_denominator.astype(float)"
   ]
  },
  {
   "cell_type": "markdown",
   "metadata": {},
   "source": [
    "**Test**"
   ]
  },
  {
   "cell_type": "code",
   "execution_count": 644,
   "metadata": {},
   "outputs": [
    {
     "name": "stdout",
     "output_type": "stream",
     "text": [
      "<class 'pandas.core.frame.DataFrame'>\n",
      "Int64Index: 2073 entries, 0 to 2072\n",
      "Data columns (total 19 columns):\n",
      "tweet_id              2073 non-null object\n",
      "timestamp             2073 non-null datetime64[ns, UTC]\n",
      "source                2073 non-null object\n",
      "text                  2073 non-null object\n",
      "expanded_urls         2073 non-null object\n",
      "rating_numerator      2073 non-null float64\n",
      "rating_denominator    2073 non-null float64\n",
      "name                  1988 non-null object\n",
      "retweets_count        2073 non-null object\n",
      "favorites_count       2073 non-null object\n",
      "jpg_url               2073 non-null object\n",
      "img_num               2073 non-null int64\n",
      "p1                    2073 non-null object\n",
      "p1_dog                2073 non-null bool\n",
      "p2                    2073 non-null object\n",
      "p2_dog                2073 non-null bool\n",
      "p3                    2073 non-null object\n",
      "p3_dog                2073 non-null bool\n",
      "stages                2073 non-null object\n",
      "dtypes: bool(3), datetime64[ns, UTC](1), float64(2), int64(1), object(12)\n",
      "memory usage: 281.4+ KB\n"
     ]
    }
   ],
   "source": [
    "df_clean.info()"
   ]
  },
  {
   "cell_type": "markdown",
   "metadata": {},
   "source": [
    "<a id='str'></a>\n",
    "## 4- Storing, Analyzing, and Visualizing Data\n",
    "- Store the clean DataFrame(s) in a CSV file with the main one named `twitter_archive_master.csv.` If additional files exist because multiple tables are required for tidiness, name these files appropriately. Additionally, you may store the cleaned data in a SQLite database (which is to be submitted as well if you do).\n",
    "\n",
    "- Analyze and visualize your wrangled data in your wrangle_act.ipynb Jupyter Notebook. At least three (3) insights and one (1) visualization must be produced."
   ]
  },
  {
   "cell_type": "code",
   "execution_count": 645,
   "metadata": {},
   "outputs": [],
   "source": [
    "df_clean.to_csv('twitter_archive_master.csv')"
   ]
  },
  {
   "cell_type": "markdown",
   "metadata": {},
   "source": [
    "#### Analyzing, and Visualizing Data"
   ]
  },
  {
   "cell_type": "code",
   "execution_count": 646,
   "metadata": {},
   "outputs": [],
   "source": [
    "df = pd.read_csv('twitter_archive_master.csv')"
   ]
  },
  {
   "cell_type": "code",
   "execution_count": 647,
   "metadata": {
    "scrolled": true
   },
   "outputs": [
    {
     "data": {
      "text/html": [
       "<div>\n",
       "<style scoped>\n",
       "    .dataframe tbody tr th:only-of-type {\n",
       "        vertical-align: middle;\n",
       "    }\n",
       "\n",
       "    .dataframe tbody tr th {\n",
       "        vertical-align: top;\n",
       "    }\n",
       "\n",
       "    .dataframe thead th {\n",
       "        text-align: right;\n",
       "    }\n",
       "</style>\n",
       "<table border=\"1\" class=\"dataframe\">\n",
       "  <thead>\n",
       "    <tr style=\"text-align: right;\">\n",
       "      <th></th>\n",
       "      <th>Unnamed: 0</th>\n",
       "      <th>tweet_id</th>\n",
       "      <th>timestamp</th>\n",
       "      <th>source</th>\n",
       "      <th>text</th>\n",
       "      <th>expanded_urls</th>\n",
       "      <th>rating_numerator</th>\n",
       "      <th>rating_denominator</th>\n",
       "      <th>name</th>\n",
       "      <th>retweets_count</th>\n",
       "      <th>favorites_count</th>\n",
       "      <th>jpg_url</th>\n",
       "      <th>img_num</th>\n",
       "      <th>p1</th>\n",
       "      <th>p1_dog</th>\n",
       "      <th>p2</th>\n",
       "      <th>p2_dog</th>\n",
       "      <th>p3</th>\n",
       "      <th>p3_dog</th>\n",
       "      <th>stages</th>\n",
       "    </tr>\n",
       "  </thead>\n",
       "  <tbody>\n",
       "    <tr>\n",
       "      <td>0</td>\n",
       "      <td>0</td>\n",
       "      <td>892420643555336193</td>\n",
       "      <td>2017-08-01 16:23:56+00:00</td>\n",
       "      <td>&lt;a href=\"http://twitter.com/download/iphone\" r...</td>\n",
       "      <td>This is Phineas. He's a mystical boy. Only eve...</td>\n",
       "      <td>https://twitter.com/dog_rates/status/892420643...</td>\n",
       "      <td>13.0</td>\n",
       "      <td>10.0</td>\n",
       "      <td>Phineas</td>\n",
       "      <td>8853</td>\n",
       "      <td>39467</td>\n",
       "      <td>https://pbs.twimg.com/media/DGKD1-bXoAAIAUK.jpg</td>\n",
       "      <td>1</td>\n",
       "      <td>orange</td>\n",
       "      <td>False</td>\n",
       "      <td>bagel</td>\n",
       "      <td>False</td>\n",
       "      <td>banana</td>\n",
       "      <td>False</td>\n",
       "      <td>NaN</td>\n",
       "    </tr>\n",
       "    <tr>\n",
       "      <td>1</td>\n",
       "      <td>1</td>\n",
       "      <td>892177421306343426</td>\n",
       "      <td>2017-08-01 00:17:27+00:00</td>\n",
       "      <td>&lt;a href=\"http://twitter.com/download/iphone\" r...</td>\n",
       "      <td>This is Tilly. She's just checking pup on you....</td>\n",
       "      <td>https://twitter.com/dog_rates/status/892177421...</td>\n",
       "      <td>13.0</td>\n",
       "      <td>10.0</td>\n",
       "      <td>Tilly</td>\n",
       "      <td>6514</td>\n",
       "      <td>33819</td>\n",
       "      <td>https://pbs.twimg.com/media/DGGmoV4XsAAUL6n.jpg</td>\n",
       "      <td>1</td>\n",
       "      <td>Chihuahua</td>\n",
       "      <td>True</td>\n",
       "      <td>Pekinese</td>\n",
       "      <td>True</td>\n",
       "      <td>papillon</td>\n",
       "      <td>True</td>\n",
       "      <td>NaN</td>\n",
       "    </tr>\n",
       "    <tr>\n",
       "      <td>2</td>\n",
       "      <td>2</td>\n",
       "      <td>891815181378084864</td>\n",
       "      <td>2017-07-31 00:18:03+00:00</td>\n",
       "      <td>&lt;a href=\"http://twitter.com/download/iphone\" r...</td>\n",
       "      <td>This is Archie. He is a rare Norwegian Pouncin...</td>\n",
       "      <td>https://twitter.com/dog_rates/status/891815181...</td>\n",
       "      <td>12.0</td>\n",
       "      <td>10.0</td>\n",
       "      <td>Archie</td>\n",
       "      <td>4328</td>\n",
       "      <td>25461</td>\n",
       "      <td>https://pbs.twimg.com/media/DGBdLU1WsAANxJ9.jpg</td>\n",
       "      <td>1</td>\n",
       "      <td>Chihuahua</td>\n",
       "      <td>True</td>\n",
       "      <td>malamute</td>\n",
       "      <td>True</td>\n",
       "      <td>kelpie</td>\n",
       "      <td>True</td>\n",
       "      <td>NaN</td>\n",
       "    </tr>\n",
       "    <tr>\n",
       "      <td>3</td>\n",
       "      <td>3</td>\n",
       "      <td>891689557279858688</td>\n",
       "      <td>2017-07-30 15:58:51+00:00</td>\n",
       "      <td>&lt;a href=\"http://twitter.com/download/iphone\" r...</td>\n",
       "      <td>This is Darla. She commenced a snooze mid meal...</td>\n",
       "      <td>https://twitter.com/dog_rates/status/891689557...</td>\n",
       "      <td>13.0</td>\n",
       "      <td>10.0</td>\n",
       "      <td>Darla</td>\n",
       "      <td>8964</td>\n",
       "      <td>42908</td>\n",
       "      <td>https://pbs.twimg.com/media/DF_q7IAWsAEuuN8.jpg</td>\n",
       "      <td>1</td>\n",
       "      <td>paper_towel</td>\n",
       "      <td>False</td>\n",
       "      <td>Labrador_retriever</td>\n",
       "      <td>True</td>\n",
       "      <td>spatula</td>\n",
       "      <td>False</td>\n",
       "      <td>NaN</td>\n",
       "    </tr>\n",
       "    <tr>\n",
       "      <td>4</td>\n",
       "      <td>4</td>\n",
       "      <td>891327558926688256</td>\n",
       "      <td>2017-07-29 16:00:24+00:00</td>\n",
       "      <td>&lt;a href=\"http://twitter.com/download/iphone\" r...</td>\n",
       "      <td>This is Franklin. He would like you to stop ca...</td>\n",
       "      <td>https://twitter.com/dog_rates/status/891327558...</td>\n",
       "      <td>12.0</td>\n",
       "      <td>10.0</td>\n",
       "      <td>Franklin</td>\n",
       "      <td>9774</td>\n",
       "      <td>41048</td>\n",
       "      <td>https://pbs.twimg.com/media/DF6hr6BUMAAzZgT.jpg</td>\n",
       "      <td>2</td>\n",
       "      <td>basset</td>\n",
       "      <td>True</td>\n",
       "      <td>English_springer</td>\n",
       "      <td>True</td>\n",
       "      <td>German_short-haired_pointer</td>\n",
       "      <td>True</td>\n",
       "      <td>NaN</td>\n",
       "    </tr>\n",
       "  </tbody>\n",
       "</table>\n",
       "</div>"
      ],
      "text/plain": [
       "   Unnamed: 0            tweet_id                  timestamp  \\\n",
       "0           0  892420643555336193  2017-08-01 16:23:56+00:00   \n",
       "1           1  892177421306343426  2017-08-01 00:17:27+00:00   \n",
       "2           2  891815181378084864  2017-07-31 00:18:03+00:00   \n",
       "3           3  891689557279858688  2017-07-30 15:58:51+00:00   \n",
       "4           4  891327558926688256  2017-07-29 16:00:24+00:00   \n",
       "\n",
       "                                              source  \\\n",
       "0  <a href=\"http://twitter.com/download/iphone\" r...   \n",
       "1  <a href=\"http://twitter.com/download/iphone\" r...   \n",
       "2  <a href=\"http://twitter.com/download/iphone\" r...   \n",
       "3  <a href=\"http://twitter.com/download/iphone\" r...   \n",
       "4  <a href=\"http://twitter.com/download/iphone\" r...   \n",
       "\n",
       "                                                text  \\\n",
       "0  This is Phineas. He's a mystical boy. Only eve...   \n",
       "1  This is Tilly. She's just checking pup on you....   \n",
       "2  This is Archie. He is a rare Norwegian Pouncin...   \n",
       "3  This is Darla. She commenced a snooze mid meal...   \n",
       "4  This is Franklin. He would like you to stop ca...   \n",
       "\n",
       "                                       expanded_urls  rating_numerator  \\\n",
       "0  https://twitter.com/dog_rates/status/892420643...              13.0   \n",
       "1  https://twitter.com/dog_rates/status/892177421...              13.0   \n",
       "2  https://twitter.com/dog_rates/status/891815181...              12.0   \n",
       "3  https://twitter.com/dog_rates/status/891689557...              13.0   \n",
       "4  https://twitter.com/dog_rates/status/891327558...              12.0   \n",
       "\n",
       "   rating_denominator      name  retweets_count  favorites_count  \\\n",
       "0                10.0   Phineas            8853            39467   \n",
       "1                10.0     Tilly            6514            33819   \n",
       "2                10.0    Archie            4328            25461   \n",
       "3                10.0     Darla            8964            42908   \n",
       "4                10.0  Franklin            9774            41048   \n",
       "\n",
       "                                           jpg_url  img_num           p1  \\\n",
       "0  https://pbs.twimg.com/media/DGKD1-bXoAAIAUK.jpg        1       orange   \n",
       "1  https://pbs.twimg.com/media/DGGmoV4XsAAUL6n.jpg        1    Chihuahua   \n",
       "2  https://pbs.twimg.com/media/DGBdLU1WsAANxJ9.jpg        1    Chihuahua   \n",
       "3  https://pbs.twimg.com/media/DF_q7IAWsAEuuN8.jpg        1  paper_towel   \n",
       "4  https://pbs.twimg.com/media/DF6hr6BUMAAzZgT.jpg        2       basset   \n",
       "\n",
       "   p1_dog                  p2  p2_dog                           p3  p3_dog  \\\n",
       "0   False               bagel   False                       banana   False   \n",
       "1    True            Pekinese    True                     papillon    True   \n",
       "2    True            malamute    True                       kelpie    True   \n",
       "3   False  Labrador_retriever    True                      spatula   False   \n",
       "4    True    English_springer    True  German_short-haired_pointer    True   \n",
       "\n",
       "  stages  \n",
       "0    NaN  \n",
       "1    NaN  \n",
       "2    NaN  \n",
       "3    NaN  \n",
       "4    NaN  "
      ]
     },
     "execution_count": 647,
     "metadata": {},
     "output_type": "execute_result"
    }
   ],
   "source": [
    "df.head()"
   ]
  },
  {
   "cell_type": "code",
   "execution_count": 653,
   "metadata": {},
   "outputs": [],
   "source": [
    "import seaborn as sns\n",
    "import matplotlib.pyplot as plt\n",
    "%matplotlib inline"
   ]
  },
  {
   "cell_type": "markdown",
   "metadata": {},
   "source": [
    "## Most Popular Dog Stages"
   ]
  },
  {
   "cell_type": "code",
   "execution_count": 654,
   "metadata": {},
   "outputs": [
    {
     "data": {
      "image/png": "[encoded data removed]",
      "text/plain": [
       "<Figure size 432x288 with 1 Axes>"
      ]
     },
     "metadata": {
      "needs_background": "light"
     },
     "output_type": "display_data"
    }
   ],
   "source": [
    "s = np.arange(7)\n",
    "stages_counts = df.stages.value_counts()\n",
    "stages_counts.plot(kind = 'bar', title = 'Most Popular Dog Stages')\n",
    "plt.xticks(s, ('Pupper', 'Doggo', 'Puppo', 'Floofer', 'Doggo_Pupper', 'Doggo_Puppo', 'Doggo_Floofer'));"
   ]
  },
  {
   "cell_type": "markdown",
   "metadata": {},
   "source": [
    "pupper is the most famous one with a huge difference"
   ]
  },
  {
   "cell_type": "markdown",
   "metadata": {},
   "source": [
    "## retweets_count & Image number correlation"
   ]
  },
  {
   "cell_type": "code",
   "execution_count": 655,
   "metadata": {},
   "outputs": [
    {
     "data": {
      "image/png": "[encoded data removed]",
      "text/plain": [
       "<Figure size 432x432 with 3 Axes>"
      ]
     },
     "metadata": {
      "needs_background": "light"
     },
     "output_type": "display_data"
    }
   ],
   "source": [
    "x = df_clean.retweets_count\n",
    "y = df_clean.img_num\n",
    "sns.jointplot(x, y, data=df);"
   ]
  },
  {
   "cell_type": "markdown",
   "metadata": {},
   "source": [
    "less Images give more retweets, what about the favorites? Ithink it would be the same but i will check"
   ]
  },
  {
   "cell_type": "markdown",
   "metadata": {},
   "source": [
    "## favorites_count & Image number correlation"
   ]
  },
  {
   "cell_type": "code",
   "execution_count": 656,
   "metadata": {},
   "outputs": [
    {
     "data": {
      "image/png": "[encoded data removed]",
      "text/plain": [
       "<Figure size 432x432 with 3 Axes>"
      ]
     },
     "metadata": {
      "needs_background": "light"
     },
     "output_type": "display_data"
    }
   ],
   "source": [
    "x = df_clean.favorites_count\n",
    "y = df_clean.img_num\n",
    "sns.jointplot(x, y, data=df);"
   ]
  },
  {
   "cell_type": "markdown",
   "metadata": {},
   "source": [
    "wow it is very close"
   ]
  },
  {
   "cell_type": "markdown",
   "metadata": {},
   "source": [
    "### img_num and stages"
   ]
  },
  {
   "cell_type": "code",
   "execution_count": 657,
   "metadata": {},
   "outputs": [
    {
     "data": {
      "image/png": "[encoded data removed]",
      "text/plain": [
       "<Figure size 576x576 with 1 Axes>"
      ]
     },
     "metadata": {
      "needs_background": "light"
     },
     "output_type": "display_data"
    }
   ],
   "source": [
    "sns.catplot(x=\"stages\", y=\"img_num\",data=df, size=8);"
   ]
  },
  {
   "cell_type": "markdown",
   "metadata": {},
   "source": [
    "We can see that the majority use 1 or 2 images "
   ]
  },
  {
   "cell_type": "markdown",
   "metadata": {},
   "source": [
    "<a id='#Resources'></a>\n",
    "## Resources\n",
    "* https://stackoverflow.com/questions/10628262/inserting-image-into-ipython-notebook-markdown\n",
    "* https://docs.python.org/3.1/library/re.html\n",
    "* https://pandas.pydata.org/pandas-docs/stable/reference/api/pandas.DataFrame.dropna.html\n",
    "* https://seaborn.pydata.org/tutorial/distributions.html"
   ]
  },
  {
   "cell_type": "code",
   "execution_count": null,
   "metadata": {},
   "outputs": [],
   "source": []
  }
 ],
 "metadata": {
  "kernelspec": {
   "display_name": "Python 3",
   "language": "python",
   "name": "python3"
  },
  "language_info": {
   "codemirror_mode": {
    "name": "ipython",
    "version": 3
   },
   "file_extension": ".py",
   "mimetype": "text/x-python",
   "name": "python",
   "nbconvert_exporter": "python",
   "pygments_lexer": "ipython3",
   "version": "3.7.4"
  }
 },
 "nbformat": 4,
 "nbformat_minor": 4
}
